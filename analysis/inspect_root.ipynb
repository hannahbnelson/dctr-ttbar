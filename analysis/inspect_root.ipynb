{
 "cells": [
  {
   "cell_type": "code",
   "execution_count": 1,
   "id": "e95a1e7e-9b38-42d3-8347-f14d7e4322d7",
   "metadata": {},
   "outputs": [],
   "source": [
    "import awkward as ak\n",
    "import numpy as np\n",
    "\n",
    "import matplotlib.pyplot as plt\n",
    "import mplhep as hep\n",
    "\n",
    "import hist\n",
    "from hist import Hist\n",
    "\n",
    "from coffea.nanoevents import NanoEventsFactory, NanoAODSchema\n",
    "from topcoffea.modules.histEFT import HistEFT\n",
    "NanoAODSchema.warn_missing_crossrefs = False\n",
    "\n",
    "from coffea.analysis_tools import PackedSelection\n",
    "from topcoffea.modules import utils\n",
    "import topcoffea.modules.eft_helper as efth"
   ]
  },
  {
   "cell_type": "code",
   "execution_count": 2,
   "id": "7a619186-7c9d-4a29-a5d3-480c8f4d1f8a",
   "metadata": {},
   "outputs": [],
   "source": [
    "fname = \"/cms/cephfs/data/store/user/hnelson2/noEFT/nanoGen/TT01j2l_SM/NanoGen_TT01j2l_SM/nanoGen_10016.root\"\n",
    "# Load in events from root file\n",
    "events = NanoEventsFactory.from_root(\n",
    "    fname,\n",
    "    schemaclass=NanoAODSchema.v6,\n",
    "    metadata={\"dataset\": \"TTto2L2Nu\"},\n",
    ").events()"
   ]
  },
  {
   "cell_type": "code",
   "execution_count": 3,
   "id": "5410024f-8e03-4482-b266-9e0671abb24c",
   "metadata": {},
   "outputs": [],
   "source": [
    "genpart = events.GenPart\n",
    "is_final_mask = genpart.hasFlags([\"fromHardProcess\",\"isLastCopy\"])"
   ]
  },
  {
   "cell_type": "code",
   "execution_count": 4,
   "id": "a6a126cb-f756-46cd-90ad-a6dce181bb43",
   "metadata": {},
   "outputs": [],
   "source": [
    "gen_tops = ak.pad_none(genpart[is_final_mask & (abs(genpart.pdgId) == 6)],2)"
   ]
  },
  {
   "cell_type": "code",
   "execution_count": 37,
   "id": "40106ea5-602a-470d-a044-36d092220413",
   "metadata": {},
   "outputs": [],
   "source": [
    "top = genpart[is_final_mask & (genpart.pdgId == 6)]\n",
    "antitop = genpart[is_final_mask & (genpart.pdgId == -6)]"
   ]
  },
  {
   "cell_type": "code",
   "execution_count": 6,
   "id": "c1af9e40-24c7-498c-9932-201e87a470e7",
   "metadata": {},
   "outputs": [],
   "source": [
    "ele  = genpart[is_final_mask & (abs(genpart.pdgId) == 11)]\n",
    "mu   = genpart[is_final_mask & (abs(genpart.pdgId) == 13)]\n",
    "tau = genpart[is_final_mask & (abs(genpart.pdgId) == 15)]\n",
    "leps = ak.concatenate([ele, mu, tau],axis=1)\n",
    "leps = leps[ak.argsort(leps.pt, axis=-1, ascending=False)]"
   ]
  },
  {
   "cell_type": "code",
   "execution_count": 21,
   "id": "9a1ade20-1c5e-4a19-93eb-ec9da05d1e7d",
   "metadata": {},
   "outputs": [],
   "source": [
    "lminus = leps[leps.pdgId > 0] #positive pdgId corresponds with electron, muon, tau \n",
    "lplus = leps[leps.pdgId < 0] #negative pdgId corresponds with antielectorn, antimuon, antitau"
   ]
  },
  {
   "cell_type": "code",
   "execution_count": 48,
   "id": "21773143-799e-4da9-9eb6-f0b128ce0231",
   "metadata": {},
   "outputs": [],
   "source": [
    "lep2_pt = leps[:,1].mass"
   ]
  },
  {
   "cell_type": "code",
   "execution_count": 8,
   "id": "8913d3e4-8415-4e33-b1ff-4dc73c793aa7",
   "metadata": {},
   "outputs": [
    {
     "data": {
      "text/html": [
       "<html>\n",
       "<div style=\"display:flex; align-items:center;\">\n",
       "<div style=\"width:290px;\">\n",
       "<svg xmlns=\"http://www.w3.org/2000/svg\" viewBox=\"-10 -105 270 120\">\n",
       "<line x1=\"-5\" y1=\"0\" x2=\"255\" y2=\"0\" style=\"fill:none;stroke-width:2;stroke:currentColor\"/>\n",
       "<text text-anchor=\"middle\" x=\"0\" y=\"15\" style=\"fill:currentColor;\">\n",
       "0\n",
       "</text>\n",
       "<text text-anchor=\"middle\" x=\"250\" y=\"15\" style=\"fill:currentColor;\">\n",
       "10\n",
       "</text>\n",
       "<text text-anchor=\"middle\" x=\"125.0\" y=\"15\" style=\"fill:currentColor;\">\n",
       "nleps\n",
       "</text>\n",
       "<polyline points=\"  0,0   0,-0  25,-0  25,-0  50,-0  50,-100  75,-100  75,-0 100,-0 100,-0 125,-0 125,-0 150,-0 150,-0 175,-0 175,-0 200,-0 200,-0 225,-0 225,-0 250,-0 250,0\" style=\"fill:none; stroke:currentColor;\"/>\n",
       "</svg>\n",
       "</div>\n",
       "<div style=\"flex=grow:1;\">\n",
       "Regular(10, 0, 10, name='nleps')<br/>\n",
       "<hr style=\"margin-top:.2em; margin-bottom:.2em;\"/>\n",
       "Double() Σ=15743.0\n",
       "\n",
       "</div>\n",
       "</div>\n",
       "</html>"
      ],
      "text/plain": [
       "Hist(Regular(10, 0, 10, name='nleps'), storage=Double()) # Sum: 15743.0"
      ]
     },
     "execution_count": 8,
     "metadata": {},
     "output_type": "execute_result"
    }
   ],
   "source": [
    "nleps_hist = Hist(hist.axis.Regular(10, 0, 10, name='nleps'))\n",
    "nleps_hist.fill(ak.num(leps))"
   ]
  },
  {
   "cell_type": "code",
   "execution_count": 10,
   "id": "ee9613a7-f66d-4be3-bd2d-20c35a181a2a",
   "metadata": {},
   "outputs": [
    {
     "data": {
      "text/plain": [
       "array([    0.,     0., 15743.,     0.,     0.,     0.,     0.,     0.,\n",
       "           0.,     0.])"
      ]
     },
     "execution_count": 10,
     "metadata": {},
     "output_type": "execute_result"
    }
   ],
   "source": [
    "nleps_hist.values()"
   ]
  },
  {
   "cell_type": "code",
   "execution_count": null,
   "id": "1895e3aa-f430-42e8-9f1c-9f36e6409385",
   "metadata": {},
   "outputs": [],
   "source": []
  }
 ],
 "metadata": {
  "kernelspec": {
   "display_name": "dctr",
   "language": "python",
   "name": "dctr"
  },
  "language_info": {
   "codemirror_mode": {
    "name": "ipython",
    "version": 3
   },
   "file_extension": ".py",
   "mimetype": "text/x-python",
   "name": "python",
   "nbconvert_exporter": "python",
   "pygments_lexer": "ipython3",
   "version": "3.10.15"
  }
 },
 "nbformat": 4,
 "nbformat_minor": 5
}
