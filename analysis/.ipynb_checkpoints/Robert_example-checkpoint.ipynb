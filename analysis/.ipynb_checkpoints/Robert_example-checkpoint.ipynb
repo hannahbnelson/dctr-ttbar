{
 "cells": [
  {
   "cell_type": "code",
   "execution_count": 32,
   "id": "7e53cbee-69c2-4eaf-a47b-f55949667b23",
   "metadata": {},
   "outputs": [],
   "source": [
    "import numpy as np\n",
    "import tensorflow as tf\n",
    "import matplotlib.pyplot as plt"
   ]
  },
  {
   "cell_type": "code",
   "execution_count": 33,
   "id": "18fa34ca-9f57-41c0-9a60-c758f6921b53",
   "metadata": {},
   "outputs": [],
   "source": [
    "# Generate toy data: two one-dimensional exponential distributions\n",
    "np.random.seed(42)\n",
    "N_0, N_1 = 10000, 10000\n",
    "lambda_0, lambda_1 = 1.0, 0.5\n",
    "\n",
    "z_0 = np.random.exponential(scale=1 / lambda_0, size=N_0).reshape(-1, 1).astype(np.float32)\n",
    "w_0 = np.ones(N_0, dtype=np.float32)  # Equal weights for simplicity\n",
    "\n",
    "z_1 = np.random.exponential(scale=1 / lambda_1, size=N_1).reshape(-1, 1).astype(np.float32)\n",
    "w_1 = np.ones(N_1,dtype=np.float32)"
   ]
  },
  {
   "cell_type": "code",
   "execution_count": 34,
   "id": "b5595c75-4523-427b-95e6-4d74a58d6098",
   "metadata": {},
   "outputs": [
    {
     "name": "stdout",
     "output_type": "stream",
     "text": [
      "[[0.46926808]\n",
      " [3.0101213 ]\n",
      " [1.3167456 ]\n",
      " ...\n",
      " [2.9319675 ]\n",
      " [0.5066477 ]\n",
      " [0.24480191]]\n"
     ]
    }
   ],
   "source": [
    "print(z_0)"
   ]
  },
  {
   "cell_type": "code",
   "execution_count": 35,
   "id": "1d472fed-bdbb-4f1e-afa8-2bfd284b5012",
   "metadata": {},
   "outputs": [],
   "source": [
    "# Combine the datasets and labels\n",
    "z = np.concatenate([z_0, z_1], axis=0)\n",
    "w = np.concatenate([w_0, w_1], axis=0)\n",
    "y = np.concatenate([np.zeros(N_0), np.ones(N_1)]).astype(np.float32)"
   ]
  },
  {
   "cell_type": "code",
   "execution_count": 36,
   "id": "88cf2628-7c44-4f14-bd33-79c23b4a9651",
   "metadata": {},
   "outputs": [
    {
     "name": "stdout",
     "output_type": "stream",
     "text": [
      "[[0.46926808]\n",
      " [3.0101213 ]\n",
      " [1.3167456 ]\n",
      " ...\n",
      " [0.72394496]\n",
      " [1.1715294 ]\n",
      " [0.378124  ]]\n"
     ]
    }
   ],
   "source": [
    "print(z)"
   ]
  },
  {
   "cell_type": "code",
   "execution_count": 37,
   "id": "bd58ecf5-64a2-4ea7-979f-13ea36bad7a5",
   "metadata": {},
   "outputs": [],
   "source": [
    "# Create a TensorFlow dataset\n",
    "dataset = tf.data.Dataset.from_tensor_slices((z, y, w)).shuffle(len(z)).batch(128)"
   ]
  },
  {
   "cell_type": "code",
   "execution_count": 38,
   "id": "c8973557-f2ac-47c7-aafe-28982f20e7ca",
   "metadata": {},
   "outputs": [],
   "source": [
    "# Define the neural network model\n",
    "def create_model(input_dim):\n",
    "    model = tf.keras.Sequential([\n",
    "        tf.keras.layers.Input(shape=(input_dim,)),\n",
    "        tf.keras.layers.Dense(64, activation='relu'),\n",
    "        tf.keras.layers.Dense(64, activation='relu'),\n",
    "        tf.keras.layers.Dense(1, activation='sigmoid')\n",
    "    ])\n",
    "    return model"
   ]
  },
  {
   "cell_type": "code",
   "execution_count": 39,
   "id": "0b5854e1-b28c-4e95-9419-488af2f5b9d9",
   "metadata": {},
   "outputs": [],
   "source": [
    "# Define custom loss function\n",
    "def custom_loss(y_true, y_pred, weights):\n",
    "    term_1 = tf.reduce_sum(weights * y_true * -tf.math.log(y_pred + 1e-8))\n",
    "    term_0 = tf.reduce_sum(weights * (1 - y_true) * -tf.math.log(1 - y_pred + 1e-8))\n",
    "    return term_1 + term_0"
   ]
  },
  {
   "cell_type": "code",
   "execution_count": 40,
   "id": "4a2a761d-bf81-4d4c-9d24-973e247fc369",
   "metadata": {},
   "outputs": [],
   "source": [
    "# Training step\n",
    "@tf.function\n",
    "def train_step(x, y, weights):\n",
    "    with tf.GradientTape() as tape:\n",
    "        predictions = model(x, training=True)\n",
    "        loss = custom_loss(y, predictions, weights)\n",
    "    gradients = tape.gradient(loss, model.trainable_variables)\n",
    "    optimizer.apply_gradients(zip(gradients, model.trainable_variables))\n",
    "    return loss"
   ]
  },
  {
   "cell_type": "code",
   "execution_count": 41,
   "id": "a94bc09b-5bc0-45df-8096-789c4f79ecba",
   "metadata": {},
   "outputs": [],
   "source": [
    "# Compute r(z)\n",
    "def compute_r(z):\n",
    "    f_z = model.predict(z)\n",
    "    return f_z / (1 - f_z + 1e-8)"
   ]
  },
  {
   "cell_type": "code",
   "execution_count": 42,
   "id": "fab45bce-befd-45ca-8e47-920cd44da5f2",
   "metadata": {},
   "outputs": [],
   "source": [
    "# Initialize the model\n",
    "input_dim = z.shape[1]\n",
    "model = create_model(input_dim)"
   ]
  },
  {
   "cell_type": "code",
   "execution_count": 43,
   "id": "1324ce0f-7b22-48e8-8355-c3bdbf695060",
   "metadata": {},
   "outputs": [],
   "source": [
    "# Optimizer\n",
    "optimizer = tf.keras.optimizers.Adam(learning_rate=0.001)"
   ]
  },
  {
   "cell_type": "code",
   "execution_count": 44,
   "id": "60ce3e36-003b-4ebe-856e-09277555167d",
   "metadata": {},
   "outputs": [
    {
     "name": "stderr",
     "output_type": "stream",
     "text": [
      "2025-03-13 16:25:49.615214: I tensorflow/core/common_runtime/executor.cc:1197] [/device:CPU:0] (DEBUG INFO) Executor start aborting (this does not indicate an error and you can ignore this message): INVALID_ARGUMENT: You must feed a value for placeholder tensor 'Placeholder/_2' with dtype float and shape [20000]\n",
      "\t [[{{node Placeholder/_2}}]]\n",
      "2025-03-13 16:25:49.615424: I tensorflow/core/common_runtime/executor.cc:1197] [/device:CPU:0] (DEBUG INFO) Executor start aborting (this does not indicate an error and you can ignore this message): INVALID_ARGUMENT: You must feed a value for placeholder tensor 'Placeholder/_2' with dtype float and shape [20000]\n",
      "\t [[{{node Placeholder/_2}}]]\n"
     ]
    },
    {
     "name": "stdout",
     "output_type": "stream",
     "text": [
      "Epoch 1, Loss: 1639680.3749\n",
      "Epoch 2, Loss: 1622084.2607\n",
      "Epoch 3, Loss: 1621226.6052\n",
      "Epoch 4, Loss: 1621499.4312\n",
      "Epoch 5, Loss: 1621134.5606\n",
      "Epoch 6, Loss: 1622246.6923\n",
      "Epoch 7, Loss: 1621609.7096\n",
      "Epoch 8, Loss: 1620668.0496\n",
      "Epoch 9, Loss: 1621557.9016\n",
      "Epoch 10, Loss: 1621315.2904\n",
      "Epoch 11, Loss: 1621180.8182\n",
      "Epoch 12, Loss: 1621813.7834\n",
      "Epoch 13, Loss: 1620690.7336\n",
      "Epoch 14, Loss: 1621880.6473\n",
      "Epoch 15, Loss: 1621419.4611\n",
      "Epoch 16, Loss: 1620632.8757\n",
      "Epoch 17, Loss: 1620486.4841\n",
      "Epoch 18, Loss: 1620504.5781\n",
      "Epoch 19, Loss: 1621579.4025\n",
      "Epoch 20, Loss: 1621035.2808\n",
      "Epoch 21, Loss: 1620687.7234\n",
      "Epoch 22, Loss: 1621718.8098\n",
      "Epoch 23, Loss: 1621459.9614\n",
      "Epoch 24, Loss: 1621126.1512\n",
      "Epoch 25, Loss: 1621407.0286\n",
      "Epoch 26, Loss: 1620833.4703\n",
      "Epoch 27, Loss: 1620380.8639\n",
      "Epoch 28, Loss: 1621714.4978\n",
      "Epoch 29, Loss: 1620458.4970\n",
      "Epoch 30, Loss: 1620910.5924\n",
      "Epoch 31, Loss: 1620404.6653\n",
      "Epoch 32, Loss: 1620826.9969\n",
      "Epoch 33, Loss: 1621056.8049\n",
      "Epoch 34, Loss: 1620858.7193\n",
      "Epoch 35, Loss: 1621659.9227\n",
      "Epoch 36, Loss: 1621583.0607\n",
      "Epoch 37, Loss: 1620996.3660\n",
      "Epoch 38, Loss: 1620218.0073\n",
      "Epoch 39, Loss: 1620230.9224\n",
      "Epoch 40, Loss: 1620555.7186\n",
      "Epoch 41, Loss: 1620678.1176\n",
      "Epoch 42, Loss: 1620605.1078\n",
      "Epoch 43, Loss: 1620592.5873\n",
      "Epoch 44, Loss: 1620798.4282\n",
      "Epoch 45, Loss: 1620711.9320\n",
      "Epoch 46, Loss: 1620727.0268\n",
      "Epoch 47, Loss: 1620266.1761\n",
      "Epoch 48, Loss: 1620513.4779\n",
      "Epoch 49, Loss: 1620785.1360\n",
      "Epoch 50, Loss: 1620741.7317\n"
     ]
    }
   ],
   "source": [
    "# Training loop\n",
    "epochs = 50\n",
    "for epoch in range(epochs):\n",
    "    epoch_loss = 0\n",
    "    for x_batch, y_batch, w_batch in dataset:\n",
    "        loss = train_step(x_batch, tf.expand_dims(y_batch, axis=-1), w_batch)\n",
    "        epoch_loss += loss.numpy()\n",
    "    print(f\"Epoch {epoch + 1}, Loss: {epoch_loss:.4f}\")"
   ]
  },
  {
   "cell_type": "code",
   "execution_count": 45,
   "id": "112e7fe3-86fe-48df-b06b-be10072e337d",
   "metadata": {},
   "outputs": [
    {
     "name": "stdout",
     "output_type": "stream",
     "text": [
      "313/313 [==============================] - 0s 388us/step\n",
      "313/313 [==============================] - 0s 380us/step\n"
     ]
    }
   ],
   "source": [
    "r_z_0 = compute_r(z_0)\n",
    "r_z_1 = compute_r(z_1)"
   ]
  },
  {
   "cell_type": "code",
   "execution_count": 46,
   "id": "efbbc010-b3cb-47ea-b47d-a3058cb52d04",
   "metadata": {},
   "outputs": [],
   "source": [
    "# Reweighting and closure test\n",
    "weights_0_to_1 = w_0 * r_z_0.flatten()\n",
    "weights_1_to_0 = w_1 / (r_z_1.flatten() + 1e-8)"
   ]
  },
  {
   "cell_type": "code",
   "execution_count": 47,
   "id": "a26ccbda-3b8e-402f-b121-5ea94e459b4c",
   "metadata": {},
   "outputs": [
    {
     "data": {
      "text/plain": [
       "<Figure size 1200x600 with 0 Axes>"
      ]
     },
     "execution_count": 47,
     "metadata": {},
     "output_type": "execute_result"
    },
    {
     "data": {
      "text/plain": [
       "<Figure size 1200x600 with 0 Axes>"
      ]
     },
     "metadata": {},
     "output_type": "display_data"
    }
   ],
   "source": [
    "# Make histograms\n",
    "bins = np.linspace(0, np.max([z_0.max(), z_1.max()]), 50)\n",
    "plt.figure(figsize=(12, 6))"
   ]
  },
  {
   "cell_type": "code",
   "execution_count": 48,
   "id": "b84fd670-88d3-42a1-abb1-174514ba2c35",
   "metadata": {},
   "outputs": [
    {
     "data": {
      "image/png": "[encoded data removed]",
      "text/plain": [
       "<Figure size 640x480 with 1 Axes>"
      ]
     },
     "metadata": {},
     "output_type": "display_data"
    }
   ],
   "source": [
    "# Original distributions\n",
    "plt.hist(z_0, bins=bins, weights=w_0, alpha=0.5, label=\"Original $z_0$ (dσ₀)\", density=True)\n",
    "plt.hist(z_1, bins=bins, weights=w_1, alpha=0.5, label=\"Original $z_1$ (dσ₁)\", density=True)\n",
    "\n",
    "# Reweighted distributions\n",
    "plt.hist(z_0, bins=bins, weights=weights_0_to_1, histtype='step', lw=2, label=\"Reweighted $z_0 \\\\to dσ₁$\", density=True)\n",
    "plt.hist(z_1, bins=bins, weights=weights_1_to_0, histtype='step', lw=2, label=\"Reweighted $z_1 \\\\to dσ₀$\", density=True)\n",
    "\n",
    "# Plot settings\n",
    "plt.xlabel(\"z\")\n",
    "plt.ylabel(\"Density\")\n",
    "plt.legend()\n",
    "plt.title(\"Closure Test: Reweighting Distributions\")\n",
    "plt.grid()\n",
    "plt.show()\n",
    "\n",
    "# plt.savefig(\"closure_test.png\")"
   ]
  },
  {
   "cell_type": "code",
   "execution_count": null,
   "id": "3e75b45f-0930-4ffc-a529-109f5d9ac6eb",
   "metadata": {},
   "outputs": [],
   "source": []
  },
  {
   "cell_type": "code",
   "execution_count": null,
   "id": "3f5c6bc7-d6bf-41f4-a060-e87977a75b73",
   "metadata": {},
   "outputs": [],
   "source": []
  }
 ],
 "metadata": {
  "kernelspec": {
   "display_name": "dctr-coffea",
   "language": "python",
   "name": "dctr-coffea"
  },
  "language_info": {
   "codemirror_mode": {
    "name": "ipython",
    "version": 3
   },
   "file_extension": ".py",
   "mimetype": "text/x-python",
   "name": "python",
   "nbconvert_exporter": "python",
   "pygments_lexer": "ipython3",
   "version": "3.9.15"
  }
 },
 "nbformat": 4,
 "nbformat_minor": 5
}
