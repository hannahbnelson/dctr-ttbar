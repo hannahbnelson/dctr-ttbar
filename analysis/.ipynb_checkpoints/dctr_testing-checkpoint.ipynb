{
 "cells": [
  {
   "cell_type": "code",
   "execution_count": 1,
   "id": "2504774d-8359-4917-b72f-2621d5306d4c",
   "metadata": {},
   "outputs": [
    {
     "name": "stderr",
     "output_type": "stream",
     "text": [
      "2025-03-13 16:32:25.999048: I tensorflow/core/platform/cpu_feature_guard.cc:182] This TensorFlow binary is optimized to use available CPU instructions in performance-critical operations.\n",
      "To enable the following instructions: SSE4.1 SSE4.2 AVX AVX2 FMA, in other operations, rebuild TensorFlow with the appropriate compiler flags.\n"
     ]
    }
   ],
   "source": [
    "import numpy as np\n",
    "import pandas as pd\n",
    "import awkward as ak\n",
    "import tensorflow as tf\n",
    "import matplotlib.pyplot as plt\n",
    "import topcoffea.modules.utils as utils\n",
    "import pickle\n",
    "import gzip"
   ]
  },
  {
   "cell_type": "code",
   "execution_count": null,
   "id": "fc6fee3b-b634-4440-9cc3-0843b31115cf",
   "metadata": {},
   "outputs": [],
   "source": [
    "# TODO: Make sure that the train/testing datasets are being used in the correct places"
   ]
  },
  {
   "cell_type": "code",
   "execution_count": 2,
   "id": "622c1949-14ea-4cb6-9160-603efc7966e1",
   "metadata": {},
   "outputs": [],
   "source": [
    "fSMEFT = \"dctr_SMEFT.pkl.gz\"\n",
    "fpowheg = \"dctr_powheg.pkl.gz\"\n",
    "inputs_smeft= pickle.load(gzip.open(fSMEFT)).get()\n",
    "inputs_powheg = pickle.load(gzip.open(fpowheg)).get()"
   ]
  },
  {
   "cell_type": "code",
   "execution_count": 3,
   "id": "3a36117d-0cc9-4753-b643-338d1751664e",
   "metadata": {},
   "outputs": [
    {
     "name": "stdout",
     "output_type": "stream",
     "text": [
      "(25419,)\n",
      "(300589,)\n"
     ]
    }
   ],
   "source": [
    "print(inputs_smeft['weights'].shape)\n",
    "print(inputs_powheg['weights'].shape)"
   ]
  },
  {
   "cell_type": "raw",
   "id": "531ab911-87ac-4c08-adf5-8dfc0d06ec8b",
   "metadata": {},
   "source": [
    "truth_smeft = np.ones_like(inputs_smeft['weights'])\n",
    "truth_powheg = np.zeros_like(inputs_powheg['weights'])"
   ]
  },
  {
   "cell_type": "raw",
   "id": "e8fc0a6f-bd28-4781-b6ff-a353532666c6",
   "metadata": {},
   "source": [
    "weights_smeft = inputs_smeft['weights']\n",
    "weights_powheg = inputs_powheg['weights']"
   ]
  },
  {
   "cell_type": "code",
   "execution_count": 31,
   "id": "864fb826-c1ac-43dc-b2e6-f423a7df0323",
   "metadata": {},
   "outputs": [],
   "source": [
    "df_smeft = inputs_smeft\n",
    "df_powheg = inputs_powheg.iloc[:25000]\n",
    "\n",
    "smeft_train = df_smeft.sample(frac=0.7)\n",
    "smeft_test = df_smeft.drop(smeft_train.index)\n",
    "\n",
    "powheg_train = df_powheg.sample(frac=0.7)\n",
    "powheg_test = df_powheg.drop(powheg_train.index)"
   ]
  },
  {
   "cell_type": "code",
   "execution_count": 32,
   "id": "68c7d131-4b0f-4bd1-a75e-fcdf66bbf95e",
   "metadata": {},
   "outputs": [],
   "source": [
    "# z_0 = inputs_smeft\n",
    "# z_1 = inputs_powheg.iloc[:25000]\n",
    "\n",
    "# w_0 = inputs_smeft['weights']\n",
    "# w_1 = z_1['weights']\n",
    "\n",
    "# y_0 = np.ones_like(z_0['weights'])\n",
    "# y_1 = np.zeros_like(z_1['weights'])\n",
    "\n",
    "\n",
    "z_0 = smeft_train\n",
    "z_1 = powheg_train\n",
    "\n",
    "w_0 = z_0['weights']\n",
    "w_1 = z_1['weights']\n",
    "\n",
    "y_0 = np.ones_like(z_0['weights'])\n",
    "y_1 = np.zeros_like(z_1['weights'])"
   ]
  },
  {
   "cell_type": "code",
   "execution_count": 33,
   "id": "fada63dc-2048-4b6c-b124-bcb15218e955",
   "metadata": {},
   "outputs": [],
   "source": [
    "z = np.concatenate([z_0, z_1], axis=0).astype(np.float32)\n",
    "w = np.concatenate([w_0, w_1], axis=0).astype(np.float32)\n",
    "y = np.concatenate([y_0, y_1], axis=0).astype(np.float32)"
   ]
  },
  {
   "cell_type": "code",
   "execution_count": 47,
   "id": "85f1d594-8125-4321-a6e5-e21db528e9b8",
   "metadata": {},
   "outputs": [],
   "source": [
    "dataset = tf.data.Dataset.from_tensor_slices((z, y, w)).shuffle(len(z)).batch(128)"
   ]
  },
  {
   "cell_type": "code",
   "execution_count": 48,
   "id": "b0975633-13cb-4c6c-b1fa-9029e659bd0f",
   "metadata": {},
   "outputs": [],
   "source": [
    "# dataset_train, dataset_test = tf.keras.utils.split_dataset(dataset, left_size=0.7)"
   ]
  },
  {
   "cell_type": "code",
   "execution_count": 36,
   "id": "ef0df800-3844-4777-b75c-578b4feacdd1",
   "metadata": {},
   "outputs": [],
   "source": [
    "normalizer = tf.keras.layers.Normalization(axis=-1)\n",
    "normalizer.adapt(z)"
   ]
  },
  {
   "cell_type": "code",
   "execution_count": 50,
   "id": "cc74fbbf-611c-442a-a387-ca568ce6d7fa",
   "metadata": {},
   "outputs": [
    {
     "ename": "IndentationError",
     "evalue": "unindent does not match any outer indentation level (<tokenize>, line 9)",
     "output_type": "error",
     "traceback": [
      "\u001b[0;36m  File \u001b[0;32m<tokenize>:9\u001b[0;36m\u001b[0m\n\u001b[0;31m    ])\u001b[0m\n\u001b[0m    ^\u001b[0m\n\u001b[0;31mIndentationError\u001b[0m\u001b[0;31m:\u001b[0m unindent does not match any outer indentation level\n"
     ]
    }
   ],
   "source": [
    "# Define the neural network model\n",
    "def create_model(input_dim):\n",
    "    # model = tf.keras.Sequential([\n",
    "        normalizer, \n",
    "        tf.keras.layers.Input(shape=(input_dim,)),\n",
    "        tf.keras.layers.Dense(300, activation='relu'),\n",
    "        tf.keras.layers.Dense(300, activation='relu'),\n",
    "        tf.keras.layers.Dense(1, activation='sigmoid')\n",
    "    ])\n",
    "    return model"
   ]
  },
  {
   "cell_type": "code",
   "execution_count": 51,
   "id": "6f58f4f4-d90c-40b3-a5eb-16965a444321",
   "metadata": {},
   "outputs": [],
   "source": [
    "# Define custom loss function\n",
    "def custom_loss(y_true, y_pred, weights):\n",
    "    term_1 = tf.reduce_sum(weights * y_true * -tf.math.log(y_pred + 1e-8))\n",
    "    term_0 = tf.reduce_sum(weights * (1 - y_true) * -tf.math.log(1 - y_pred + 1e-8))\n",
    "    return term_1 + term_0"
   ]
  },
  {
   "cell_type": "code",
   "execution_count": 52,
   "id": "d3bd6137-6d74-47d6-aa1b-155b9fca3fc4",
   "metadata": {},
   "outputs": [],
   "source": [
    "# Training step\n",
    "@tf.function\n",
    "def train_step(x, y, weights):\n",
    "    with tf.GradientTape() as tape:\n",
    "        predictions = model(x, training=True)\n",
    "        loss = custom_loss(y, predictions, weights)\n",
    "    gradients = tape.gradient(loss, model.trainable_variables)\n",
    "    optimizer.apply_gradients(zip(gradients, model.trainable_variables))\n",
    "    return loss"
   ]
  },
  {
   "cell_type": "code",
   "execution_count": 53,
   "id": "264fdd09-ca03-4013-8f1c-15ecafadadee",
   "metadata": {},
   "outputs": [],
   "source": [
    "# Compute r(z)\n",
    "def compute_r(z):\n",
    "    f_z = model.predict(z)\n",
    "    return f_z / (1 - f_z + 1e-8)"
   ]
  },
  {
   "cell_type": "code",
   "execution_count": 54,
   "id": "d4b8ea81-99cf-4003-9392-490ad08c007c",
   "metadata": {},
   "outputs": [],
   "source": [
    "# Optimizer\n",
    "optimizer = tf.keras.optimizers.Adam(learning_rate=0.001)"
   ]
  },
  {
   "cell_type": "code",
   "execution_count": 55,
   "id": "afc3e1bf-313a-4a91-b719-2014fed15069",
   "metadata": {},
   "outputs": [],
   "source": [
    "# Initialize the model\n",
    "input_dim = z.shape[1]\n",
    "model = create_model(input_dim)"
   ]
  },
  {
   "cell_type": "code",
   "execution_count": 56,
   "id": "e5a20cc9-c667-4d67-acc4-fcc872aa6679",
   "metadata": {},
   "outputs": [
    {
     "name": "stderr",
     "output_type": "stream",
     "text": [
      "2025-03-13 17:20:53.426179: I tensorflow/core/common_runtime/executor.cc:1197] [/device:CPU:0] (DEBUG INFO) Executor start aborting (this does not indicate an error and you can ignore this message): INVALID_ARGUMENT: You must feed a value for placeholder tensor 'Placeholder/_0' with dtype float and shape [35293,22]\n",
      "\t [[{{node Placeholder/_0}}]]\n",
      "2025-03-13 17:20:53.426479: I tensorflow/core/common_runtime/executor.cc:1197] [/device:CPU:0] (DEBUG INFO) Executor start aborting (this does not indicate an error and you can ignore this message): INVALID_ARGUMENT: You must feed a value for placeholder tensor 'Placeholder/_1' with dtype float and shape [35293]\n",
      "\t [[{{node Placeholder/_1}}]]\n"
     ]
    },
    {
     "name": "stdout",
     "output_type": "stream",
     "text": [
      "Epoch 1, Loss: 1994309.4600\n",
      "Epoch 2, Loss: 1880806.3691\n",
      "Epoch 3, Loss: 1847607.2476\n",
      "Epoch 4, Loss: 1820893.0542\n",
      "Epoch 5, Loss: 1802572.5308\n",
      "Epoch 6, Loss: 1784043.4690\n",
      "Epoch 7, Loss: 1780236.0564\n",
      "Epoch 8, Loss: 1762664.7275\n",
      "Epoch 9, Loss: 1745053.6375\n",
      "Epoch 10, Loss: 1728735.4351\n",
      "Epoch 11, Loss: 1709899.0750\n",
      "Epoch 12, Loss: 1695821.0425\n",
      "Epoch 13, Loss: 1678681.3235\n",
      "Epoch 14, Loss: 1658690.9661\n",
      "Epoch 15, Loss: 1638696.0312\n",
      "Epoch 16, Loss: 1623419.1504\n",
      "Epoch 17, Loss: 1603442.1370\n",
      "Epoch 18, Loss: 1577503.4319\n",
      "Epoch 19, Loss: 1557005.5039\n",
      "Epoch 20, Loss: 1534108.2305\n"
     ]
    }
   ],
   "source": [
    "# # Training loop\n",
    "# epochs = 20\n",
    "# for epoch in range(epochs):\n",
    "#     epoch_loss = 0\n",
    "#     for x_batch, y_batch, w_batch in dataset:\n",
    "#         loss = train_step(x_batch, tf.expand_dims(y_batch, axis=-1), w_batch)\n",
    "#         epoch_loss += loss.numpy()\n",
    "#     print(f\"Epoch {epoch + 1}, Loss: {epoch_loss:.4f}\")\n",
    "\n",
    "# Training loop\n",
    "epochs = 20\n",
    "for epoch in range(epochs):\n",
    "    epoch_loss = 0\n",
    "    for x_batch, y_batch, w_batch in dataset:\n",
    "        loss = train_step(x_batch, tf.expand_dims(y_batch, axis=-1), w_batch)\n",
    "        epoch_loss += loss.numpy()\n",
    "    print(f\"Epoch {epoch + 1}, Loss: {epoch_loss:.4f}\")"
   ]
  },
  {
   "cell_type": "code",
   "execution_count": 57,
   "id": "d73f96c8-1b3e-473d-b830-b517d6fd5c4f",
   "metadata": {},
   "outputs": [
    {
     "name": "stdout",
     "output_type": "stream",
     "text": [
      "557/557 [==============================] - 0s 520us/step\n",
      "547/547 [==============================] - 0s 513us/step\n"
     ]
    }
   ],
   "source": [
    "r_z_0 = compute_r(z_0)\n",
    "r_z_1 = compute_r(z_1)"
   ]
  },
  {
   "cell_type": "code",
   "execution_count": 58,
   "id": "2a300e98-aec6-46ff-8622-418b185c21e5",
   "metadata": {},
   "outputs": [],
   "source": [
    "# Reweighting and closure test\n",
    "weights_0_to_1 = w_0 * r_z_0.flatten()\n",
    "weights_1_to_0 = w_1 / (r_z_1.flatten() + 1e-8)"
   ]
  },
  {
   "cell_type": "code",
   "execution_count": 59,
   "id": "95e2bae3-837b-4663-8053-2d7317d8b3df",
   "metadata": {},
   "outputs": [
    {
     "data": {
      "image/png": "[encoded data removed]",
      "text/plain": [
       "<Figure size 1200x600 with 1 Axes>"
      ]
     },
     "metadata": {},
     "output_type": "display_data"
    }
   ],
   "source": [
    "# Make histograms\n",
    "bins = np.linspace(0, np.max([z_0.max(), z_1.max()]), 50)\n",
    "plt.figure(figsize=(12, 6))\n",
    "\n",
    "# Original distributions\n",
    "plt.hist(z_0['mtt'], bins=bins, weights=w_0, alpha=0.5, label=\"Original $z_0$ (dσ₀)\", density=True)\n",
    "plt.hist(z_1['mtt'], bins=bins, weights=w_1, alpha=0.5, label=\"Original $z_1$ (dσ₁)\", density=True)\n",
    "\n",
    "# Reweighted distributions\n",
    "plt.hist(z_0['mtt'], bins=bins, weights=weights_0_to_1, histtype='step', lw=2, label=\"Reweighted $z_0 \\\\to dσ₁$\", density=True)\n",
    "plt.hist(z_1['mtt'], bins=bins, weights=weights_1_to_0, histtype='step', lw=2, label=\"Reweighted $z_1 \\\\to dσ₀$\", density=True)\n",
    "\n",
    "# Plot settings\n",
    "plt.xlabel(\"z\")\n",
    "plt.ylabel(\"Density\")\n",
    "plt.legend()\n",
    "plt.title(\"Closure Test: Reweighting Distributions\")\n",
    "plt.grid()\n",
    "plt.show()"
   ]
  },
  {
   "cell_type": "code",
   "execution_count": null,
   "id": "4732e4ba-f0ce-451b-a2ac-177cdf94e3bf",
   "metadata": {},
   "outputs": [],
   "source": []
  }
 ],
 "metadata": {
  "kernelspec": {
   "display_name": "dctr-coffea",
   "language": "python",
   "name": "dctr-coffea"
  },
  "language_info": {
   "codemirror_mode": {
    "name": "ipython",
    "version": 3
   },
   "file_extension": ".py",
   "mimetype": "text/x-python",
   "name": "python",
   "nbconvert_exporter": "python",
   "pygments_lexer": "ipython3",
   "version": "3.9.15"
  }
 },
 "nbformat": 4,
 "nbformat_minor": 5
}
