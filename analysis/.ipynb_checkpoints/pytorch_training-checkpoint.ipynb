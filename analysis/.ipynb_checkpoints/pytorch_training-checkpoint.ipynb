{
 "cells": [
  {
   "cell_type": "code",
   "execution_count": 3,
   "id": "fe2b377e-006f-4ff2-a026-129bdad8ec60",
   "metadata": {},
   "outputs": [],
   "source": [
    "import numpy as np\n",
    "import pandas as pd\n",
    "import awkward as ak\n",
    "import torch\n",
    "import torch.nn as nn\n",
    "from torch.utils.data import Dataset, DataLoader\n",
    "from torch import optim\n",
    "import matplotlib.pyplot as plt\n",
    "import topcoffea.modules.utils as utils\n",
    "import pickle\n",
    "import gzip\n",
    "import logging\n",
    "import time"
   ]
  },
  {
   "cell_type": "code",
   "execution_count": 6,
   "id": "80023e85-d9e4-4372-935a-ae0556b2ce6f",
   "metadata": {},
   "outputs": [],
   "source": [
    "fSMEFT = \"/afs/crc.nd.edu/user/h/hnelson2/dctr/analysis/dctr_SMEFT.pkl.gz\"\n",
    "# fpowheg = \"/afs/crc.nd.edu/user/h/hnelson2/dctr/analysis/dctr_powheg.pkl.gz\" "
   ]
  },
  {
   "cell_type": "code",
   "execution_count": 7,
   "id": "d5da3020-c238-4b9d-b93c-4e62b3cc2253",
   "metadata": {},
   "outputs": [],
   "source": [
    "rando=1234"
   ]
  },
  {
   "cell_type": "code",
   "execution_count": 8,
   "id": "42c35c2e-cb4a-4cd4-9f8e-3336c2e0cb64",
   "metadata": {},
   "outputs": [],
   "source": [
    "inputs_smeft= pickle.load(gzip.open(fSMEFT)).get()\n",
    "smeft_nevents = inputs_smeft.shape[0]"
   ]
  },
  {
   "cell_type": "code",
   "execution_count": 9,
   "id": "3530fdcf-5bed-4821-b998-dc0a130d8ee3",
   "metadata": {},
   "outputs": [
    {
     "data": {
      "text/plain": [
       "(1958489, 11)"
      ]
     },
     "execution_count": 9,
     "metadata": {},
     "output_type": "execute_result"
    }
   ],
   "source": [
    "inputs_smeft.shape"
   ]
  },
  {
   "cell_type": "code",
   "execution_count": 10,
   "id": "c3580b5d-a063-42d9-b8cd-8c08641cbf0d",
   "metadata": {},
   "outputs": [],
   "source": [
    "# inputs_powheg = pickle.load(gzip.open(fpowheg)).get()\n",
    "inputs_powheg = ((pickle.load(gzip.open(fSMEFT)).get()).sample(frac=1, random_state=rando).reset_index(drop=True)).iloc[:smeft_nevents]"
   ]
  },
  {
   "cell_type": "code",
   "execution_count": 11,
   "id": "d151e29c-646b-4001-b37f-28e28f98a627",
   "metadata": {},
   "outputs": [],
   "source": [
    "smeft_train = inputs_smeft.sample(frac=0.7, random_state=rando)\n",
    "smeft_test = inputs_smeft.drop(smeft_train.index)"
   ]
  },
  {
   "cell_type": "code",
   "execution_count": 12,
   "id": "ff4ee677-4405-47c4-b55f-39c44b7147cb",
   "metadata": {},
   "outputs": [],
   "source": [
    "powheg_train = inputs_powheg.sample(frac=0.7, random_state=rando)\n",
    "powheg_test = inputs_powheg.drop(powheg_train.index)"
   ]
  },
  {
   "cell_type": "code",
   "execution_count": 13,
   "id": "60e61d16-7935-4509-beeb-e59327dfccf0",
   "metadata": {},
   "outputs": [],
   "source": [
    "truth_smeft = np.ones_like(smeft_train['weights'])\n",
    "truth_powheg = np.zeros_like(powheg_train['weights'])\n",
    "\n",
    "weights_smeft = np.ones_like(smeft_train['weights'])\n",
    "weights_powheg = np.ones_like(powheg_train['weights'])"
   ]
  },
  {
   "cell_type": "code",
   "execution_count": 14,
   "id": "ee0bc080-2fdb-4318-9301-5d4f3355a290",
   "metadata": {},
   "outputs": [],
   "source": [
    "z = np.concatenate([smeft_train, powheg_train], axis=0).astype(np.float32)\n",
    "w = np.concatenate([weights_smeft, weights_powheg], axis=0).astype(np.float32)\n",
    "y = np.concatenate([truth_smeft, truth_powheg], axis=0).astype(np.float32)"
   ]
  },
  {
   "cell_type": "code",
   "execution_count": 18,
   "id": "359a897f-e15e-4bc2-80a0-7ba9ca689513",
   "metadata": {},
   "outputs": [],
   "source": [
    "# t_test = torch.from_numpy(z)"
   ]
  },
  {
   "cell_type": "code",
   "execution_count": 19,
   "id": "420b8254-d5e3-403e-a135-8ad6efd55962",
   "metadata": {},
   "outputs": [],
   "source": [
    "# train_dataloader = DataLoader(t_test, batch_size=128, shuffle=True)"
   ]
  },
  {
   "cell_type": "code",
   "execution_count": 23,
   "id": "d7d4689a-228a-4850-b683-0f24d975bdbb",
   "metadata": {},
   "outputs": [],
   "source": [
    "input_dim = torch.from_numpy(z).shape[1]"
   ]
  },
  {
   "cell_type": "code",
   "execution_count": 4,
   "id": "1c1b1734-4d89-4507-9dde-4ef868e95402",
   "metadata": {},
   "outputs": [],
   "source": [
    "class MyDataset(Dataset):\n",
    "    def __init__(self, data, weights, targets):\n",
    "        self.data = data\n",
    "        self.weights = weights\n",
    "        self.targets = targets\n",
    "\n",
    "    def __len__(self):\n",
    "        return len(self.data)\n",
    "\n",
    "    def __getitem__(self, idx):\n",
    "        sample = self.data[idx]\n",
    "        weights = self.weights[idx]\n",
    "        target = self.targets[idx]\n",
    "        return sample, weights, target"
   ]
  },
  {
   "cell_type": "code",
   "execution_count": 15,
   "id": "00a82d99-ced7-4983-8125-307d79d735d3",
   "metadata": {},
   "outputs": [],
   "source": [
    "train_dataset = MyDataset(torch.from_numpy(z), torch.from_numpy(w), torch.from_numpy(y))"
   ]
  },
  {
   "cell_type": "code",
   "execution_count": 16,
   "id": "216c4290-3766-497d-990d-0a6698da3581",
   "metadata": {},
   "outputs": [],
   "source": [
    "train_dataloader = DataLoader(train_dataset, batch_size=128, shuffle=True)"
   ]
  },
  {
   "cell_type": "code",
   "execution_count": 25,
   "id": "463b5ad8-2ff5-4b1e-8b2f-19e52e7746d8",
   "metadata": {},
   "outputs": [
    {
     "name": "stdout",
     "output_type": "stream",
     "text": [
      "Using cpu device\n",
      "input dims=11\n"
     ]
    }
   ],
   "source": [
    "device = \"cpu\"\n",
    "print(f\"Using {device} device\")\n",
    "print(f\"input dims={input_dim}\")\n",
    "\n",
    "# Define model\n",
    "class NeuralNetwork(nn.Module):\n",
    "    def __init__(self, input_dim):\n",
    "        super().__init__()\n",
    "        self.main_module= nn.Sequential(\n",
    "            nn.Linear(input_dim, 256),\n",
    "            nn.LeakyReLU(),\n",
    "            nn.Linear(256,256),\n",
    "            nn.LeakyReLU(),\n",
    "            nn.Linear(256, 256),\n",
    "            nn.LeakyReLU(),\n",
    "            nn.Linear(256, 1),\n",
    "            nn.Sigmoid()\n",
    "        )\n",
    "    def forward(self, x):\n",
    "        return self.main_module(x)\n",
    "\n",
    "model = NeuralNetwork(input_dim).to(device)\n",
    "# print(model)"
   ]
  },
  {
   "cell_type": "code",
   "execution_count": 26,
   "id": "d0f6e8e3-6f7f-4289-86aa-deda85497594",
   "metadata": {},
   "outputs": [],
   "source": [
    "loss_fn = nn.BCELoss(reduction='mean')"
   ]
  },
  {
   "cell_type": "code",
   "execution_count": 27,
   "id": "dd091f2a-ac8e-43b3-a1be-fd917631518e",
   "metadata": {},
   "outputs": [],
   "source": [
    "optimizer = optim.Adam(model.parameters(), lr=1e-3)"
   ]
  },
  {
   "cell_type": "code",
   "execution_count": 41,
   "id": "2d7548c6-00b9-441d-9c0b-341222facec2",
   "metadata": {},
   "outputs": [],
   "source": [
    "def train(model, dataloader, loss_fn, optimizer, device=\"cpu\"):\n",
    "    size = len(dataloader.dataset)\n",
    "    model.train()\n",
    "    total_loss = 0.0\n",
    "    \n",
    "    for batch_samples, batch_weights, batch_targets in dataloader:\n",
    "        batch_samples, batch_weights, batch_targets = (\n",
    "            batch_samples.to(device),\n",
    "            batch_weights.to(device),\n",
    "            batch_targets.to(device)\n",
    "        )\n",
    "\n",
    "        # Compute prediction error\n",
    "        outputs = model(batch_samples).squeeze(1)\n",
    "        loss = loss_fn(outputs, batch_targets)\n",
    "        final_loss = torch.mean(loss)\n",
    "\n",
    "        optimizer.zero_grad()\n",
    "        final_loss.backward()\n",
    "        optimizer.step()\n",
    "\n",
    "        total_loss += final_loss.item()\n",
    "\n",
    "    avg_loss = total_loss / len(dataloader)\n",
    "    print(f\"Average Training Loss: {avg_loss:.4f}\")\n",
    "\n",
    "        # # Backpropagation\n",
    "        # loss.backward()\n",
    "        # optimizer.step()\n",
    "        # optimizer.zero_grad()\n",
    "\n",
    "        # # if batch % 100 == 0:\n",
    "        # loss, current = loss.item(), (batch + 1) * len(X)\n",
    "        # print(f\"loss: {loss:>7f}  [{current:>5d}/{size:>5d}]\")"
   ]
  },
  {
   "cell_type": "code",
   "execution_count": 42,
   "id": "0f896b2f-edb2-47ff-bbdc-ba81556f887d",
   "metadata": {},
   "outputs": [
    {
     "name": "stdout",
     "output_type": "stream",
     "text": [
      "Epoch 1\n",
      "-------------------------------\n",
      "Average Training Loss: 0.7485\n",
      "Epoch 2\n",
      "-------------------------------\n",
      "Average Training Loss: 0.6933\n",
      "Epoch 3\n",
      "-------------------------------\n",
      "Average Training Loss: 0.6933\n",
      "Epoch 4\n",
      "-------------------------------\n",
      "Average Training Loss: 0.6933\n",
      "Epoch 5\n",
      "-------------------------------\n",
      "Average Training Loss: 0.6932\n",
      "Done!\n"
     ]
    }
   ],
   "source": [
    "epochs = 5\n",
    "for t in range(epochs):\n",
    "    print(f\"Epoch {t+1}\\n-------------------------------\")\n",
    "    train(model, train_dataloader, loss_fn, optimizer)\n",
    "    # test(test_dataloader, model, loss_fn)\n",
    "print(\"Done!\")"
   ]
  },
  {
   "cell_type": "code",
   "execution_count": 30,
   "id": "f0d85d9c-a54d-4a33-a259-7aee62bbeda9",
   "metadata": {},
   "outputs": [],
   "source": [
    "# def test(dataloader, model, loss_fn):\n",
    "#     size = len(dataloader.dataset)\n",
    "#     num_batches = len(dataloader)\n",
    "#     model.eval()\n",
    "#     test_loss, correct = 0, 0\n",
    "#     with torch.no_grad():\n",
    "#         for X, y in dataloader:\n",
    "#             X, y = X.to(device), y.to(device)\n",
    "#             pred = model(X)\n",
    "#             test_loss += loss_fn(pred, y).item()\n",
    "#             correct += (pred.argmax(1) == y).type(torch.float).sum().item()\n",
    "#     test_loss /= num_batches\n",
    "#     correct /= size\n",
    "#     print(f\"Test Error: \\n Accuracy: {(100*correct):>0.1f}%, Avg loss: {test_loss:>8f} \\n\")"
   ]
  },
  {
   "cell_type": "code",
   "execution_count": null,
   "id": "4a46d6c2-521b-4dd7-8514-f3ba836c0c41",
   "metadata": {},
   "outputs": [],
   "source": []
  }
 ],
 "metadata": {
  "kernelspec": {
   "display_name": "torch",
   "language": "python",
   "name": "torch"
  },
  "language_info": {
   "codemirror_mode": {
    "name": "ipython",
    "version": 3
   },
   "file_extension": ".py",
   "mimetype": "text/x-python",
   "name": "python",
   "nbconvert_exporter": "python",
   "pygments_lexer": "ipython3",
   "version": "3.10.15"
  }
 },
 "nbformat": 4,
 "nbformat_minor": 5
}
