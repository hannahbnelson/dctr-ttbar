{
 "cells": [
  {
   "cell_type": "code",
   "execution_count": 1,
   "id": "f07a59d1-2587-41a4-9440-ac4461b2709c",
   "metadata": {},
   "outputs": [],
   "source": [
    "import yaml\n",
    "\n",
    "import awkward as ak\n",
    "import numpy as np\n",
    "import pandas as pd\n",
    "\n",
    "import matplotlib.pyplot as plt\n",
    "import mplhep as hep\n",
    "\n",
    "import hist\n",
    "from hist import Hist\n",
    "\n",
    "from coffea.nanoevents import NanoEventsFactory, NanoAODSchema\n",
    "from topcoffea.modules.histEFT import HistEFT\n",
    "NanoAODSchema.warn_missing_crossrefs = False\n",
    "\n",
    "from coffea.analysis_tools import PackedSelection\n",
    "from topcoffea.modules import utils\n",
    "import topcoffea.modules.eft_helper as efth\n",
    "\n",
    "import torch\n",
    "import torch.nn as nn\n",
    "from torch.utils.data import Dataset, DataLoader\n",
    "\n",
    "import dctr.modules.plotting_tools as plt_tools\n",
    "import dctr.modules.DNN_tools as DNN_tools"
   ]
  },
  {
   "cell_type": "code",
   "execution_count": 2,
   "id": "11f8352a-402f-486c-9ca6-ce6ede5d1ce8",
   "metadata": {},
   "outputs": [],
   "source": [
    "fname_powheg = \"/cms/cephfs/data/store/mc/RunIISummer20UL17NanoAODv9/TTTo2L2Nu_TuneCP5_13TeV-powheg-pythia8/NANOAODSIM/106X_mc2017_realistic_v9-v1/2510000/74C36AED-4CB9-1A4D-A9E6-90278C68131C.root\"\n",
    "# Load in events from root file\n",
    "events_powheg = NanoEventsFactory.from_root(\n",
    "    fname_powheg,\n",
    "    schemaclass=NanoAODSchema.v6,\n",
    "    metadata={\"dataset\": \"TTto2L2Nu\"},\n",
    ").events()\n",
    "\n",
    "fname_smeft = \"/cms/cephfs/data/store/user/hnelson2/noEFT/nanoGen/TT01j2l_SM/NanoGen_TT01j2l_SM/nanoGen_10016.root\"\n",
    "# Load in events from root file\n",
    "events_smeft = NanoEventsFactory.from_root(\n",
    "    fname_smeft,\n",
    "    schemaclass=NanoAODSchema.v6,\n",
    "    metadata={\"dataset\": \"TTto2L2Nu\"},\n",
    ").events()"
   ]
  },
  {
   "cell_type": "code",
   "execution_count": 3,
   "id": "40f01164-35d7-43a1-a472-3bd866e6a7bd",
   "metadata": {},
   "outputs": [],
   "source": [
    "# means and stdv to standardize pd df for input into trained model\n",
    "\n",
    "means = {'avg_top_pt': 34.263557,\n",
    "        'mtt': 522.141900,\n",
    "        'top1pt': 126.859184,\n",
    "        'top1eta': -0.257265,\n",
    "        'top1phi': -0.000021,\n",
    "        'top1mass': 172.253560,\n",
    "        'top2pt': 124.636566,\n",
    "        'top2eta': 0.257370,\n",
    "        'top2phi': -0.000686,\n",
    "        'top2mass': 172.265670,\n",
    "}\n",
    "\n",
    "stdvs = {'avg_top_pt': 38.252880,\n",
    "        'mtt': 175.306980,\n",
    "        'top1pt': 84.604750,\n",
    "        'top1eta': 1.823326,\n",
    "        'top1phi': 1.813635,\n",
    "        'top1mass': 5.346320,\n",
    "        'top2pt': 82.644310,\n",
    "        'top2eta': 1.829129,\n",
    "        'top2phi': 1.813916,\n",
    "        'top2mass': 5.329451,}"
   ]
  },
  {
   "cell_type": "code",
   "execution_count": null,
   "id": "c42f2fe9-2ad6-4511-8c66-153a8662f181",
   "metadata": {},
   "outputs": [],
   "source": [
    "axes = {\n",
    "    \"outputs\": {\n",
    "        \"regular\": (100, 0, 1),\n",
    "        \"label\": \"outputs\",\n",
    "    },\n",
    "    \"lep1pt\": {\n",
    "        \"regular\": (40, 0, 400),\n",
    "        \"label\": \"lep1 pt\",\n",
    "    },\n",
    "    \"lep2pt\": {\n",
    "        \"regular\": (40, 0, 400),\n",
    "        \"label\": \"lep2 pt\",\n",
    "    },\n",
    "    \"lpluspt\": {\n",
    "        \"regular\": (40, 0, 400),\n",
    "        \"label\": \"lplus pt\",\n",
    "    },\n",
    "    \"lminuspt\": {\n",
    "        \"regular\": (40, 0, 400),\n",
    "        \"label\": \"lminus pt\",\n",
    "    },\n",
    "    \"top1pt\": {\n",
    "        \"regular\": (35, 0, 700),\n",
    "        \"label\": \"top1 pt\",\n",
    "    },\n",
    "    \"top2pt\": {\n",
    "        \"regular\": (35, 0, 700),\n",
    "        \"label\": \"top2 pt\",\n",
    "    },\n",
    "    \"toppt\": {\n",
    "        \"regular\": (35, 0, 700),\n",
    "        \"label\": \"top pt\",\n",
    "    },\n",
    "    \"antitoppt\": {\n",
    "        \"regular\": (35, 0, 700),\n",
    "        \"label\": \"antitop pt\",\n",
    "    },\n",
    "    \n",
    "    \"lep1eta\": {\n",
    "        \"regular\": (50, -5, 5),\n",
    "        \"label\": \"lep1 eta\",\n",
    "    },\n",
    "    \"lep2eta\": {\n",
    "        \"regular\": (50, -5, 5),\n",
    "        \"label\": \"lep2 eta\",\n",
    "    },\n",
    "    \"lpluseta\": {\n",
    "        \"regular\": (50, -5, 5),\n",
    "        \"label\": \"lplus eta\",\n",
    "    },\n",
    "    \"lminuseta\": {\n",
    "        \"regular\": (50, -5, 5),\n",
    "        \"label\": \"lminus eta\",\n",
    "    },\n",
    "\n",
    "    \"top1eta\": {\n",
    "        \"regular\": (50, -5, 5),\n",
    "        \"label\": \"top1 eta\",\n",
    "    },\n",
    "    \"lep2eta\": {\n",
    "        \"regular\": (50, -5, 5),\n",
    "        \"label\": \"lep2 eta\",\n",
    "    },\n",
    "    \"lpluseta\": {\n",
    "        \"regular\": (50, -5, 5),\n",
    "        \"label\": \"lplus eta\",\n",
    "    },\n",
    "    \"lminuseta\": {\n",
    "        \"regular\": (50, -5, 5),\n",
    "        \"label\": \"lminus eta\",\n",
    "    },\n",
    "    \n",
    "    \"lep1pt\": {\n",
    "        \"regular\": (40, -4, 4),\n",
    "        \"label\": \"lep1 pt\",\n",
    "    },\n",
    "    \"lep2pt\": {\n",
    "        \"regular\": (40, -4, 4),\n",
    "        \"label\": \"lep2 pt\",\n",
    "    },\n",
    "    \"lpluspt\": {\n",
    "        \"regular\": (40, -4, 4),\n",
    "        \"label\": \"lplus pt\",\n",
    "    },\n",
    "    \"lminuspt\": {\n",
    "        \"regular\": (40, -4, 4),\n",
    "        \"label\": \"lminus pt\",\n",
    "    },\n",
    "    \"lep1mass\": {\n",
    "        \"regular\": (20, 0, 20),\n",
    "        \"label\": \"lep1 mass\", \n",
    "    },\n",
    "    \"lep2mass\": {\n",
    "        \"regular\": (20, 0, 20),\n",
    "        \"label\": \"lep2 mass\", \n",
    "    },\n",
    "    \"lplusmass\": {\n",
    "        \"regular\": (20, 0, 20),\n",
    "        \"label\": \"lplus mass\", \n",
    "    },\n",
    "    \"lminusmass\": {\n",
    "        \"regular\": (20, 0, 20),\n",
    "        \"label\": \"lminus mass\", \n",
    "    },  \n",
    "}"
   ]
  },
  {
   "cell_type": "markdown",
   "id": "9d4a0374-4d07-44ce-94e2-af88f9d44020",
   "metadata": {},
   "source": [
    "## Create objects for plotting/selections"
   ]
  },
  {
   "cell_type": "code",
   "execution_count": 6,
   "id": "8b0e354a-1030-4fb3-a995-d1ffb2ed34ee",
   "metadata": {},
   "outputs": [],
   "source": [
    "genpart = events_powheg.GenPart\n",
    "is_final_mask = genpart.hasFlags([\"fromHardProcess\",\"isLastCopy\"])"
   ]
  },
  {
   "cell_type": "code",
   "execution_count": 7,
   "id": "6c722f94-fa94-44a4-85b7-d317a03d8439",
   "metadata": {},
   "outputs": [],
   "source": [
    "gen_top = ak.pad_none(genpart[is_final_mask & (abs(genpart.pdgId) == 6)],2)\n",
    "gen_top = gen_top[ak.argsort(gen_top.pt, axis=1, ascending=False)]\n",
    "\n",
    "top = genpart[is_final_mask & (genpart.pdgId == 6)]\n",
    "antitop = genpart[is_final_mask & (genpart.pdgId == -6)]"
   ]
  },
  {
   "cell_type": "code",
   "execution_count": 8,
   "id": "5fb335d9-b860-45b3-b071-88a5f93b221a",
   "metadata": {},
   "outputs": [],
   "source": [
    "ele  = genpart[is_final_mask & (abs(genpart.pdgId) == 11)]\n",
    "mu   = genpart[is_final_mask & (abs(genpart.pdgId) == 13)]\n",
    "tau = genpart[is_final_mask & (abs(genpart.pdgId) == 15)]\n",
    "\n",
    "leps = ak.concatenate([ele, mu, tau],axis=1)\n",
    "leps = leps[ak.argsort(leps.pt, axis=-1, ascending=False)]\n",
    "\n",
    "lplus = leps[leps.pdgId < 0] #negative pdgId corresponds with antielectorn, antimuon, antitau\n",
    "lminus = lminus = leps[leps.pdgId > 0] #positive pdgId corresponds with electron, muon, tau "
   ]
  },
  {
   "cell_type": "code",
   "execution_count": 10,
   "id": "aed9ddf3-a538-4ed9-bdaf-995f94b020ab",
   "metadata": {},
   "outputs": [],
   "source": [
    "jets = events_powheg.GenJet\n",
    "jets = jets[ak.argsort(jets.pt, axis=-1, ascending=False)]\n",
    "njets = ak.num(jets)"
   ]
  },
  {
   "cell_type": "markdown",
   "id": "866dcb87-cdff-46ea-9b0d-9bf4c6d1c723",
   "metadata": {},
   "source": [
    "## Fill df with inputs to run through DNN"
   ]
  },
  {
   "cell_type": "code",
   "execution_count": 11,
   "id": "e59f30c4-0888-4d3b-aaa1-a137fa16d851",
   "metadata": {},
   "outputs": [],
   "source": [
    "variables_to_fill_df = {\n",
    "    \"avg_top_pt\": np.divide(gen_top.sum().pt, 2.0),\n",
    "    \"mtt\"       : (gen_top[:,0] + gen_top[:,1]).mass,\n",
    "    \"top1pt\"    : gen_top.pt[:,0],\n",
    "    \"top1eta\"   : gen_top.eta[:,0],\n",
    "    \"top1phi\"   : gen_top.phi[:,0],\n",
    "    \"top1mass\"  : gen_top.mass[:,0],\n",
    "    \"top2pt\"    : gen_top.pt[:,1],\n",
    "    \"top2eta\"   : gen_top.eta[:,1],\n",
    "    \"top2phi\"   : gen_top.phi[:,1],\n",
    "    \"top2mass\"  : gen_top.mass[:,1],\n",
    "}\n",
    "\n",
    "# NN_inputs = pd.DataFrame.from_dict(variables_to_fill_df)\n",
    "norm_NN_inputs = DNN_tools.standardize_df(pd.DataFrame.from_dict(variables_to_fill_df), means, stdvs)"
   ]
  },
  {
   "cell_type": "markdown",
   "id": "9c9cca46-f01b-4a48-a516-a275e3adb062",
   "metadata": {},
   "source": [
    "## Load in trained network, run powheg data through"
   ]
  },
  {
   "cell_type": "code",
   "execution_count": 13,
   "id": "eacaac5f-3ba4-412b-a5b2-eaf1fb6ae23c",
   "metadata": {},
   "outputs": [],
   "source": [
    "config_path = \"/users/hnelson2/dctr/condor_submissions/20250721_1722/config.yaml\"\n",
    "with open(config_path, 'r') as f:\n",
    "        config_dict = yaml.safe_load(f)"
   ]
  },
  {
   "cell_type": "code",
   "execution_count": 14,
   "id": "c75c9621-60f6-42aa-bac1-d1f47dd26fdf",
   "metadata": {},
   "outputs": [],
   "source": [
    "model_architecture = config_dict['model']\n",
    "input_dim = norm_NN_inputs.shape[1]\n",
    "model = DNN_tools.NeuralNetwork(input_dim, model_architecture)"
   ]
  },
  {
   "cell_type": "code",
   "execution_count": 15,
   "id": "6aab49cc-82c4-443d-bd78-88ab3b23891f",
   "metadata": {},
   "outputs": [
    {
     "data": {
      "text/plain": [
       "<All keys matched successfully>"
      ]
     },
     "execution_count": 15,
     "metadata": {},
     "output_type": "execute_result"
    }
   ],
   "source": [
    "model_path = \"/users/hnelson2/dctr/condor_submissions/20250721_1722/training_outputs/final_model.pt\"\n",
    "model.load_state_dict(torch.load(model_path))"
   ]
  },
  {
   "cell_type": "code",
   "execution_count": 16,
   "id": "bc8f4482-1d87-479a-9b70-a932304e89d4",
   "metadata": {},
   "outputs": [],
   "source": [
    "model.eval()\n",
    "predictions = DNN_tools.get_predictions(model, torch.from_numpy(norm_NN_inputs.to_numpy()))"
   ]
  },
  {
   "cell_type": "code",
   "execution_count": 17,
   "id": "b8d85334-7c12-4129-93f1-864c72c49407",
   "metadata": {},
   "outputs": [],
   "source": [
    "output_mask = predictions<0.1"
   ]
  },
  {
   "cell_type": "code",
   "execution_count": null,
   "id": "aa660fee-6bc3-490b-888f-8d7b6ba3e3f1",
   "metadata": {},
   "outputs": [],
   "source": [
    "\n",
    "\n",
    "histos_powheg = {\n",
    "    \"outputs\" : Hist(hist.axis.Regular(bins=100, start=0, stop=1, name=\"outputs\")),\n",
    "    \"lep1pt\": Hist(hist.axis.Regular(bins=40, start=0, stop=400, name=\"lep1pt\")),\n",
    "    \"lep1eta\": Hist(hist.axis.Regular(bins=50, start=-5, stop=5, name=\"lep1eta\")),\n",
    "    \"lep1phi\": Hist(hist.axis.Regular(bins=40, start=-4, stop=4, name=\"lep1phi\")),\n",
    "    \"njets\": Hist(hist.axis.Regular(bins=10, start=0, stop=10, name=\"njets\")),\n",
    "    \"j0pt\": Hist(hist.axis.Regular(bins=40, start=0, stop=400, name=\"j0pt\")),\n",
    "    }\n",
    "\n",
    "histos_pohweg_cuts = {\n",
    "    \"outputs\" : Hist(hist.axis.Regular(bins=100, start=0, stop=1, name=\"outputs\")),\n",
    "    \"lep1pt\": Hist(hist.axis.Regular(bins=40, start=0, stop=400, name=\"lep1pt\")),\n",
    "    \"lep1eta\": Hist(hist.axis.Regular(bins=50, start=-5, stop=5, name=\"lep1eta\")),\n",
    "    \"lep1phi\": Hist(hist.axis.Regular(bins=40, start=-4, stop=4, name=\"lep1phi\")),\n",
    "    \"njets\": Hist(hist.axis.Regular(bins=10, start=0, stop=10, name=\"njets\")),\n",
    "    \"j0pt\": Hist(hist.axis.Regular(bins=40, start=0, stop=400, name=\"j0pt\")),\n",
    "    }\n",
    "\n",
    "histos_smeft = {\n",
    "    \"outputs\" : Hist(hist.axis.Regular(bins=100, start=0, stop=1, name=\"outputs\")),\n",
    "    \"lep1pt\": Hist(hist.axis.Regular(bins=40, start=0, stop=400, name=\"lep1pt\")),\n",
    "    \"lep1eta\": Hist(hist.axis.Regular(bins=50, start=-5, stop=5, name=\"lep1eta\")),\n",
    "    \"lep1phi\": Hist(hist.axis.Regular(bins=40, start=-4, stop=4, name=\"lep1phi\")),\n",
    "    \"njets\": Hist(hist.axis.Regular(bins=10, start=0, stop=10, name=\"njets\")),\n",
    "    \"j0pt\": Hist(hist.axis.Regular(bins=40, start=0, stop=400, name=\"j0pt\")),\n",
    "    }"
   ]
  },
  {
   "cell_type": "code",
   "execution_count": null,
   "id": "b578a186-a7dc-45f0-9338-42089570e296",
   "metadata": {},
   "outputs": [],
   "source": [
    "variables_to_fill_cuts = {\n",
    "    \"outputs\": predictions, \n",
    "    \"lep1pt\": leps.pt[:,0][output_mask],\n",
    "    \"lep1eta\": leps.eta[:,0][output_mask],\n",
    "    \"lep1phi\": leps.phi[:,0][output_mask],\n",
    "    \"njets\": njets[output_mask],\n",
    "    }\n",
    "\n",
    "for var_name, var_val in variables_to_fill_cuts.items():\n",
    "    histos_cuts[var_name].fill(**{var_name: var_val})"
   ]
  },
  {
   "cell_type": "code",
   "execution_count": null,
   "id": "11c405fe-c96c-4b94-8344-4084544ef994",
   "metadata": {},
   "outputs": [],
   "source": [
    "variables_to_fill = {\n",
    "    \"outputs\": predictions, \n",
    "    \"lep1pt\": leps.pt[:,0],\n",
    "    \"lep1eta\": leps.eta[:,0],\n",
    "    \"lep1phi\": leps.phi[:,0],\n",
    "    \"njets\": ak.num(jets),\n",
    "    }\n",
    "\n",
    "for var_name, var_val in variables_to_fill.items():\n",
    "    histos[var_name].fill(**{var_name: var_val})"
   ]
  },
  {
   "cell_type": "code",
   "execution_count": null,
   "id": "2fb33e3f-c87a-46a6-bf96-2645927c1839",
   "metadata": {},
   "outputs": [],
   "source": [
    "for name in histos: \n",
    "    fig, ax = plt.subplots()\n",
    "    hep.histplot(histos[name], density=True, label='no cuts')\n",
    "    hep.histplot(histos_cuts[name], density=True, label='cuts')\n",
    "    ax.legend(loc='upper right')"
   ]
  },
  {
   "cell_type": "code",
   "execution_count": null,
   "id": "08597cef-d46d-427e-b478-390a48f7ea2f",
   "metadata": {},
   "outputs": [],
   "source": [
    "leps.pt[:,0][output_mask]"
   ]
  },
  {
   "cell_type": "code",
   "execution_count": null,
   "id": "e17aff49-3e96-498c-91ee-ed13c6654cfd",
   "metadata": {},
   "outputs": [],
   "source": [
    "leps.pt[:,0]"
   ]
  },
  {
   "cell_type": "code",
   "execution_count": null,
   "id": "d1afa34d-c45f-464a-85a7-97b133762830",
   "metadata": {},
   "outputs": [],
   "source": []
  }
 ],
 "metadata": {
  "kernelspec": {
   "display_name": "dctr",
   "language": "python",
   "name": "dctr"
  },
  "language_info": {
   "codemirror_mode": {
    "name": "ipython",
    "version": 3
   },
   "file_extension": ".py",
   "mimetype": "text/x-python",
   "name": "python",
   "nbconvert_exporter": "python",
   "pygments_lexer": "ipython3",
   "version": "3.10.15"
  }
 },
 "nbformat": 4,
 "nbformat_minor": 5
}
