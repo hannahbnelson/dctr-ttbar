{
 "cells": [
  {
   "cell_type": "code",
   "execution_count": 1,
   "id": "2504774d-8359-4917-b72f-2621d5306d4c",
   "metadata": {},
   "outputs": [
    {
     "name": "stderr",
     "output_type": "stream",
     "text": [
      "2025-03-13 13:46:25.661823: I tensorflow/core/platform/cpu_feature_guard.cc:182] This TensorFlow binary is optimized to use available CPU instructions in performance-critical operations.\n",
      "To enable the following instructions: SSE4.1 SSE4.2 AVX AVX2 FMA, in other operations, rebuild TensorFlow with the appropriate compiler flags.\n"
     ]
    }
   ],
   "source": [
    "import numpy as np\n",
    "import pandas as pd\n",
    "import awkward as ak\n",
    "import tensorflow as tf\n",
    "import matplotlib.pyplot as plt\n",
    "import topcoffea.modules.utils as utils\n",
    "import pickle\n",
    "import gzip"
   ]
  },
  {
   "cell_type": "code",
   "execution_count": 2,
   "id": "622c1949-14ea-4cb6-9160-603efc7966e1",
   "metadata": {},
   "outputs": [],
   "source": [
    "fSMEFT = \"dctr_SMEFT.pkl.gz\"\n",
    "fpowheg = \"dctr_powheg.pkl.gz\"\n",
    "inputs_smeft= pickle.load(gzip.open(fSMEFT)).get()\n",
    "inputs_powheg = pickle.load(gzip.open(fpowheg)).get()"
   ]
  },
  {
   "cell_type": "code",
   "execution_count": 3,
   "id": "3a36117d-0cc9-4753-b643-338d1751664e",
   "metadata": {},
   "outputs": [
    {
     "name": "stdout",
     "output_type": "stream",
     "text": [
      "(25419,)\n",
      "(300589,)\n"
     ]
    }
   ],
   "source": [
    "print(inputs_smeft['weights'].shape)\n",
    "print(inputs_powheg['weights'].shape)"
   ]
  },
  {
   "cell_type": "raw",
   "id": "531ab911-87ac-4c08-adf5-8dfc0d06ec8b",
   "metadata": {},
   "source": [
    "truth_smeft = np.ones_like(inputs_smeft['weights'])\n",
    "truth_powheg = np.zeros_like(inputs_powheg['weights'])"
   ]
  },
  {
   "cell_type": "raw",
   "id": "e8fc0a6f-bd28-4781-b6ff-a353532666c6",
   "metadata": {},
   "source": [
    "weights_smeft = inputs_smeft['weights']\n",
    "weights_powheg = inputs_powheg['weights']"
   ]
  },
  {
   "cell_type": "code",
   "execution_count": 37,
   "id": "68c7d131-4b0f-4bd1-a75e-fcdf66bbf95e",
   "metadata": {},
   "outputs": [],
   "source": [
    "# z_0 = inputs_smeft.to_numpy()\n",
    "# z_1 = inputs_powheg.dropna().to_numpy()\n",
    "\n",
    "z_0 = inputs_smeft\n",
    "z_1 = inputs_powheg.iloc[:25000]\n",
    "\n",
    "w_0 = inputs_smeft['weights']\n",
    "w_1 = z_1['weights']\n",
    "\n",
    "y_0 = np.ones_like(z_0['weights'])\n",
    "y_1 = np.zeros_like(z_1['weights'])"
   ]
  },
  {
   "cell_type": "code",
   "execution_count": 38,
   "id": "fada63dc-2048-4b6c-b124-bcb15218e955",
   "metadata": {},
   "outputs": [],
   "source": [
    "z = np.concatenate([z_0, z_1], axis=0).astype(np.float32)\n",
    "w = np.concatenate([w_0, w_1], axis=0).astype(np.float32)\n",
    "y = np.concatenate([y_0, y_1], axis=0).astype(np.float32)"
   ]
  },
  {
   "cell_type": "code",
   "execution_count": 39,
   "id": "85f1d594-8125-4321-a6e5-e21db528e9b8",
   "metadata": {},
   "outputs": [],
   "source": [
    "dataset = tf.data.Dataset.from_tensor_slices((z, y, w)).shuffle(len(z)).batch(128)"
   ]
  },
  {
   "cell_type": "code",
   "execution_count": 23,
   "id": "471760cf-4008-4240-b184-81f50249e2b9",
   "metadata": {},
   "outputs": [
    {
     "name": "stderr",
     "output_type": "stream",
     "text": [
      "2025-03-13 15:32:48.536497: I tensorflow/core/common_runtime/executor.cc:1197] [/device:CPU:0] (DEBUG INFO) Executor start aborting (this does not indicate an error and you can ignore this message): INVALID_ARGUMENT: You must feed a value for placeholder tensor 'Placeholder/_0' with dtype float and shape [326008,22]\n",
      "\t [[{{node Placeholder/_0}}]]\n",
      "2025-03-13 15:32:48.536752: I tensorflow/core/common_runtime/executor.cc:1197] [/device:CPU:0] (DEBUG INFO) Executor start aborting (this does not indicate an error and you can ignore this message): INVALID_ARGUMENT: You must feed a value for placeholder tensor 'Placeholder/_0' with dtype float and shape [326008,22]\n",
      "\t [[{{node Placeholder/_0}}]]\n"
     ]
    },
    {
     "name": "stdout",
     "output_type": "stream",
     "text": [
      "(<tf.Tensor: shape=(128, 22), dtype=float32, numpy=\n",
      "array([[ 1.00000000e+00,  3.82160828e+02,  1.05634773e+02, ...,\n",
      "         2.89062500e-01, -1.83593750e+00,  0.00000000e+00],\n",
      "       [ 1.00000000e+00,  4.21158508e+02,  2.95547523e+01, ...,\n",
      "         1.01953125e+00, -1.71875000e+00,  0.00000000e+00],\n",
      "       [ 1.00000000e+00,  4.30507843e+02,  1.36498413e+02, ...,\n",
      "         9.70703125e-01, -8.43750000e-01,  0.00000000e+00],\n",
      "       ...,\n",
      "       [ 1.00000000e+00,  4.62298676e+02,  1.03028114e+02, ...,\n",
      "        -1.11718750e+00, -8.92578125e-01,  0.00000000e+00],\n",
      "       [ 1.00000000e+00,  5.64000061e+02,  1.29999634e+02, ...,\n",
      "         4.02343750e-01,  1.52343750e-01,  0.00000000e+00],\n",
      "       [ 1.00000000e+00,  3.93404907e+02,  6.09232674e+01, ...,\n",
      "         1.80468750e+00, -1.94140625e+00,  0.00000000e+00]], dtype=float32)>, <tf.Tensor: shape=(128,), dtype=float32, numpy=\n",
      "array([0., 0., 0., 0., 0., 0., 0., 0., 0., 1., 0., 0., 0., 0., 0., 0., 1.,\n",
      "       1., 0., 0., 0., 0., 0., 0., 0., 0., 0., 0., 0., 0., 0., 1., 0., 0.,\n",
      "       0., 0., 0., 0., 0., 0., 0., 0., 0., 0., 0., 0., 0., 0., 0., 0., 0.,\n",
      "       1., 0., 0., 0., 0., 1., 0., 0., 0., 0., 0., 0., 0., 0., 0., 0., 0.,\n",
      "       0., 0., 0., 0., 0., 0., 0., 0., 0., 0., 0., 0., 0., 0., 0., 0., 0.,\n",
      "       0., 0., 0., 0., 0., 0., 0., 0., 1., 0., 0., 0., 0., 0., 0., 0., 0.,\n",
      "       0., 0., 1., 0., 0., 0., 0., 0., 0., 0., 0., 0., 0., 1., 0., 0., 0.,\n",
      "       0., 0., 1., 0., 0., 0., 0., 0., 0.], dtype=float32)>, <tf.Tensor: shape=(128,), dtype=float32, numpy=\n",
      "array([1., 1., 1., 1., 1., 1., 1., 1., 1., 1., 1., 1., 1., 1., 1., 1., 1.,\n",
      "       1., 1., 1., 1., 1., 1., 1., 1., 1., 1., 1., 1., 1., 1., 1., 1., 1.,\n",
      "       1., 1., 1., 1., 1., 1., 1., 1., 1., 1., 1., 1., 1., 1., 1., 1., 1.,\n",
      "       1., 1., 1., 1., 1., 1., 1., 1., 1., 1., 1., 1., 1., 1., 1., 1., 1.,\n",
      "       1., 1., 1., 1., 1., 1., 1., 1., 1., 1., 1., 1., 1., 1., 1., 1., 1.,\n",
      "       1., 1., 1., 1., 1., 1., 1., 1., 1., 1., 1., 1., 1., 1., 1., 1., 1.,\n",
      "       1., 1., 1., 1., 1., 1., 1., 1., 1., 1., 1., 1., 1., 1., 1., 1., 1.,\n",
      "       1., 1., 1., 1., 1., 1., 1., 1., 1.], dtype=float32)>)\n"
     ]
    }
   ],
   "source": [
    "for row in dataset.take(1):\n",
    "  print(row)"
   ]
  },
  {
   "cell_type": "code",
   "execution_count": 40,
   "id": "ef0df800-3844-4777-b75c-578b4feacdd1",
   "metadata": {},
   "outputs": [],
   "source": [
    "normalizer = tf.keras.layers.Normalization(axis=-1)\n",
    "normalizer.adapt(z)"
   ]
  },
  {
   "cell_type": "code",
   "execution_count": 41,
   "id": "cc74fbbf-611c-442a-a387-ca568ce6d7fa",
   "metadata": {},
   "outputs": [],
   "source": [
    "# Define the neural network model\n",
    "def create_model(input_dim):\n",
    "    model = tf.keras.Sequential([\n",
    "        normalizer, \n",
    "        tf.keras.layers.Input(shape=(input_dim,)),\n",
    "        tf.keras.layers.Dense(300, activation='relu'),\n",
    "        tf.keras.layers.Dense(300, activation='relu'),\n",
    "        tf.keras.layers.Dense(1, activation='sigmoid')\n",
    "    ])\n",
    "    return model"
   ]
  },
  {
   "cell_type": "code",
   "execution_count": 42,
   "id": "6f58f4f4-d90c-40b3-a5eb-16965a444321",
   "metadata": {},
   "outputs": [],
   "source": [
    "# Define custom loss function\n",
    "def custom_loss(y_true, y_pred, weights):\n",
    "    term_1 = tf.reduce_sum(weights * y_true * -tf.math.log(y_pred + 1e-8))\n",
    "    term_0 = tf.reduce_sum(weights * (1 - y_true) * -tf.math.log(1 - y_pred + 1e-8))\n",
    "    return term_1 + term_0"
   ]
  },
  {
   "cell_type": "code",
   "execution_count": 43,
   "id": "d3bd6137-6d74-47d6-aa1b-155b9fca3fc4",
   "metadata": {},
   "outputs": [],
   "source": [
    "# Training step\n",
    "@tf.function\n",
    "def train_step(x, y, weights):\n",
    "    with tf.GradientTape() as tape:\n",
    "        predictions = model(x, training=True)\n",
    "        loss = custom_loss(y, predictions, weights)\n",
    "    gradients = tape.gradient(loss, model.trainable_variables)\n",
    "    optimizer.apply_gradients(zip(gradients, model.trainable_variables))\n",
    "    return loss"
   ]
  },
  {
   "cell_type": "code",
   "execution_count": 44,
   "id": "264fdd09-ca03-4013-8f1c-15ecafadadee",
   "metadata": {},
   "outputs": [],
   "source": [
    "# Compute r(z)\n",
    "def compute_r(z):\n",
    "    f_z = model.predict(z)\n",
    "    return f_z / (1 - f_z + 1e-8)"
   ]
  },
  {
   "cell_type": "code",
   "execution_count": 45,
   "id": "afc3e1bf-313a-4a91-b719-2014fed15069",
   "metadata": {},
   "outputs": [],
   "source": [
    "# Initialize the model\n",
    "input_dim = z.shape[1]\n",
    "model = create_model(input_dim)"
   ]
  },
  {
   "cell_type": "code",
   "execution_count": 46,
   "id": "d4b8ea81-99cf-4003-9392-490ad08c007c",
   "metadata": {},
   "outputs": [],
   "source": [
    "# Optimizer\n",
    "optimizer = tf.keras.optimizers.Adam(learning_rate=0.001)"
   ]
  },
  {
   "cell_type": "code",
   "execution_count": 47,
   "id": "e5a20cc9-c667-4d67-acc4-fcc872aa6679",
   "metadata": {},
   "outputs": [
    {
     "name": "stderr",
     "output_type": "stream",
     "text": [
      "2025-03-13 15:50:40.994092: I tensorflow/core/common_runtime/executor.cc:1197] [/device:CPU:0] (DEBUG INFO) Executor start aborting (this does not indicate an error and you can ignore this message): INVALID_ARGUMENT: You must feed a value for placeholder tensor 'Placeholder/_1' with dtype float and shape [50419]\n",
      "\t [[{{node Placeholder/_1}}]]\n",
      "2025-03-13 15:50:40.994316: I tensorflow/core/common_runtime/executor.cc:1197] [/device:CPU:0] (DEBUG INFO) Executor start aborting (this does not indicate an error and you can ignore this message): INVALID_ARGUMENT: You must feed a value for placeholder tensor 'Placeholder/_0' with dtype float and shape [50419,22]\n",
      "\t [[{{node Placeholder/_0}}]]\n"
     ]
    },
    {
     "name": "stdout",
     "output_type": "stream",
     "text": [
      "Epoch 1, Loss: 2808593.3315\n",
      "Epoch 2, Loss: 2669229.3677\n",
      "Epoch 3, Loss: 2623251.3867\n",
      "Epoch 4, Loss: 2587037.2021\n",
      "Epoch 5, Loss: 2560043.7876\n",
      "Epoch 6, Loss: 2541017.4287\n",
      "Epoch 7, Loss: 2521349.5811\n",
      "Epoch 8, Loss: 2502648.3843\n",
      "Epoch 9, Loss: 2481195.3115\n",
      "Epoch 10, Loss: 2454270.8618\n",
      "Epoch 11, Loss: 2442183.0244\n",
      "Epoch 12, Loss: 2414719.5581\n",
      "Epoch 13, Loss: 2392905.8901\n",
      "Epoch 14, Loss: 2368630.8525\n",
      "Epoch 15, Loss: 2344992.3347\n",
      "Epoch 16, Loss: 2321495.9656\n",
      "Epoch 17, Loss: 2295677.9324\n",
      "Epoch 18, Loss: 2274518.0864\n",
      "Epoch 19, Loss: 2240141.5540\n",
      "Epoch 20, Loss: 2206337.9517\n"
     ]
    }
   ],
   "source": [
    "# Training loop\n",
    "epochs = 20\n",
    "for epoch in range(epochs):\n",
    "    epoch_loss = 0\n",
    "    for x_batch, y_batch, w_batch in dataset:\n",
    "        loss = train_step(x_batch, tf.expand_dims(y_batch, axis=-1), w_batch)\n",
    "        epoch_loss += loss.numpy()\n",
    "    print(f\"Epoch {epoch + 1}, Loss: {epoch_loss:.4f}\")"
   ]
  },
  {
   "cell_type": "code",
   "execution_count": null,
   "id": "d73f96c8-1b3e-473d-b830-b517d6fd5c4f",
   "metadata": {},
   "outputs": [],
   "source": [
    "r_z_0 = compute_r(inputs_smeft)\n",
    "r_z_1 = compute_r(inputs_powheg)"
   ]
  },
  {
   "cell_type": "code",
   "execution_count": null,
   "id": "2a300e98-aec6-46ff-8622-418b185c21e5",
   "metadata": {},
   "outputs": [],
   "source": []
  }
 ],
 "metadata": {
  "kernelspec": {
   "display_name": "dctr-coffea",
   "language": "python",
   "name": "dctr-coffea"
  },
  "language_info": {
   "codemirror_mode": {
    "name": "ipython",
    "version": 3
   },
   "file_extension": ".py",
   "mimetype": "text/x-python",
   "name": "python",
   "nbconvert_exporter": "python",
   "pygments_lexer": "ipython3",
   "version": "3.9.15"
  }
 },
 "nbformat": 4,
 "nbformat_minor": 5
}
