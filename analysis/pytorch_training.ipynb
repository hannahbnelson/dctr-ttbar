{
 "cells": [
  {
   "cell_type": "code",
   "execution_count": 12,
   "id": "fe2b377e-006f-4ff2-a026-129bdad8ec60",
   "metadata": {},
   "outputs": [],
   "source": [
    "import numpy as np\n",
    "import pandas as pd\n",
    "import awkward as ak\n",
    "import hist\n",
    "from hist import Hist\n",
    "import torch\n",
    "import torch.nn as nn\n",
    "from torch.utils.data import Dataset, DataLoader\n",
    "from torch import optim\n",
    "import matplotlib.pyplot as plt\n",
    "import topcoffea.modules.utils as utils\n",
    "import pickle\n",
    "import gzip\n",
    "import logging\n",
    "import time"
   ]
  },
  {
   "cell_type": "code",
   "execution_count": 43,
   "id": "80023e85-d9e4-4372-935a-ae0556b2ce6f",
   "metadata": {},
   "outputs": [],
   "source": [
    "fSMEFT = \"/afs/crc.nd.edu/user/h/hnelson2/dctr/analysis/dctr_SMEFT.pkl.gz\"\n",
    "fpowheg = \"/afs/crc.nd.edu/user/h/hnelson2/dctr/analysis/dctr_powheg.pkl.gz\" "
   ]
  },
  {
   "cell_type": "code",
   "execution_count": 3,
   "id": "d5da3020-c238-4b9d-b93c-4e62b3cc2253",
   "metadata": {},
   "outputs": [],
   "source": [
    "rando=1234"
   ]
  },
  {
   "cell_type": "code",
   "execution_count": 44,
   "id": "42c35c2e-cb4a-4cd4-9f8e-3336c2e0cb64",
   "metadata": {},
   "outputs": [],
   "source": [
    "inputs_smeft= pickle.load(gzip.open(fSMEFT)).get()\n",
    "smeft_nevents = inputs_smeft.shape[0]"
   ]
  },
  {
   "cell_type": "code",
   "execution_count": 5,
   "id": "3530fdcf-5bed-4821-b998-dc0a130d8ee3",
   "metadata": {},
   "outputs": [
    {
     "data": {
      "text/plain": [
       "(8824231, 11)"
      ]
     },
     "execution_count": 5,
     "metadata": {},
     "output_type": "execute_result"
    }
   ],
   "source": [
    "inputs_smeft.shape"
   ]
  },
  {
   "cell_type": "code",
   "execution_count": 48,
   "id": "c3580b5d-a063-42d9-b8cd-8c08641cbf0d",
   "metadata": {},
   "outputs": [],
   "source": [
    "# inputs_powheg = pickle.load(gzip.open(fpowheg)).get()\n",
    "inputs_powheg = ((pickle.load(gzip.open(fpowheg)).get()).query('weights>0').sample(frac=1, random_state=rando).reset_index(drop=True)).iloc[:smeft_nevents]"
   ]
  },
  {
   "cell_type": "code",
   "execution_count": 51,
   "id": "f79f5709-af99-466e-8413-a245b107e78a",
   "metadata": {},
   "outputs": [],
   "source": [
    "inputs_powheg2 = pickle.load(gzip.open(fpowheg)).get()"
   ]
  },
  {
   "cell_type": "code",
   "execution_count": 54,
   "id": "dd8cbe4b-2f24-4635-bf47-56128cf02307",
   "metadata": {},
   "outputs": [
    {
     "name": "stdout",
     "output_type": "stream",
     "text": [
      "(8824231, 11)\n",
      "(106724000, 11)\n"
     ]
    }
   ],
   "source": [
    "\n",
    "print(inputs_powheg.shape)\n",
    "print(inputs_powheg2.shape)"
   ]
  },
  {
   "cell_type": "code",
   "execution_count": 61,
   "id": "7f8584a0-bfcd-4798-ba15-43312d3ac152",
   "metadata": {},
   "outputs": [
    {
     "name": "stdout",
     "output_type": "stream",
     "text": [
      "npos=106291995\n",
      "nneg=432005\n",
      "sum=106724000\n",
      "sum equals inputs_powheg2.shape: True\n"
     ]
    }
   ],
   "source": [
    "npos = inputs_powheg2[inputs_powheg2['weights']>0].shape[0]\n",
    "nneg = inputs_powheg2[inputs_powheg2['weights']<0].shape[0]\n",
    "print(f\"npos={npos}\")\n",
    "print(f\"nneg={nneg}\")\n",
    "print(f\"sum={npos+nneg}\")\n",
    "print(f\"sum equals inputs_powheg2.shape: {inputs_powheg2.shape[0]==npos+nneg}\")"
   ]
  },
  {
   "cell_type": "code",
   "execution_count": 56,
   "id": "73fada56-a579-45ff-a13e-8557dca37bdf",
   "metadata": {},
   "outputs": [
    {
     "data": {
      "text/html": [
       "<html>\n",
       "<div style=\"display:flex; align-items:center;\">\n",
       "<div style=\"width:290px;\">\n",
       "<svg xmlns=\"http://www.w3.org/2000/svg\" viewBox=\"-10 -105 270 120\">\n",
       "<line x1=\"-5\" y1=\"0\" x2=\"255\" y2=\"0\" style=\"fill:none;stroke-width:2;stroke:currentColor\"/>\n",
       "<text text-anchor=\"middle\" x=\"0\" y=\"15\" style=\"fill:currentColor;\">\n",
       "-74\n",
       "</text>\n",
       "<text text-anchor=\"middle\" x=\"250\" y=\"15\" style=\"fill:currentColor;\">\n",
       "74\n",
       "</text>\n",
       "<text text-anchor=\"middle\" x=\"125.0\" y=\"15\" style=\"fill:currentColor;\">\n",
       "x\n",
       "</text>\n",
       "<polyline points=\"  0,0   0,-0 1.68919,-0 1.68919,-0.406 3.37838,-0.406 3.37838,-0 5.06757,-0 5.06757,-0 6.75676,-0 6.75676,-0 8.44595,-0 8.44595,-0 10.1351,-0 10.1351,-0 11.8243,-0 11.8243,-0 13.5135,-0 13.5135,-0 15.2027,-0 15.2027,-0 16.8919,-0 16.8919,-0 18.5811,-0 18.5811,-0 20.2703,-0 20.2703,-0 21.9595,-0 21.9595,-0 23.6486,-0 23.6486,-0 25.3378,-0 25.3378,-0 27.027,-0 27.027,-0 28.7162,-0 28.7162,-0 30.4054,-0 30.4054,-0 32.0946,-0 32.0946,-0 33.7838,-0 33.7838,-0 35.473,-0 35.473,-0 37.1622,-0 37.1622,-0 38.8514,-0 38.8514,-0 40.5405,-0 40.5405,-0 42.2297,-0 42.2297,-0 43.9189,-0 43.9189,-0 45.6081,-0 45.6081,-0 47.2973,-0 47.2973,-0 48.9865,-0 48.9865,-0 50.6757,-0 50.6757,-0 52.3649,-0 52.3649,-0 54.0541,-0 54.0541,-0 55.7432,-0 55.7432,-0 57.4324,-0 57.4324,-0 59.1216,-0 59.1216,-0 60.8108,-0 60.8108,-0 62.5,-0 62.5,-0 64.1892,-0 64.1892,-0 65.8784,-0 65.8784,-0 67.5676,-0 67.5676,-0 69.2568,-0 69.2568,-0 70.9459,-0 70.9459,-0 72.6351,-0 72.6351,-0 74.3243,-0 74.3243,-0 76.0135,-0 76.0135,-0 77.7027,-0 77.7027,-0 79.3919,-0 79.3919,-0 81.0811,-0 81.0811,-0 82.7703,-0 82.7703,-0 84.4595,-0 84.4595,-0 86.1486,-0 86.1486,-0 87.8378,-0 87.8378,-0 89.527,-0 89.527,-0 91.2162,-0 91.2162,-0 92.9054,-0 92.9054,-0 94.5946,-0 94.5946,-0 96.2838,-0 96.2838,-0 97.973,-0 97.973,-0 99.6622,-0 99.6622,-0 101.351,-0 101.351,-0 103.041,-0 103.041,-0 104.73,-0 104.73,-0 106.419,-0 106.419,-0 108.108,-0 108.108,-0 109.797,-0 109.797,-0 111.486,-0 111.486,-0 113.176,-0 113.176,-0 114.865,-0 114.865,-0 116.554,-0 116.554,-0 118.243,-0 118.243,-0 119.932,-0 119.932,-0 121.622,-0 121.622,-0 123.311,-0 123.311,-0 125,-0 125,-0 126.689,-0 126.689,-0 128.378,-0 128.378,-0 130.068,-0 130.068,-0 131.757,-0 131.757,-0 133.446,-0 133.446,-0 135.135,-0 135.135,-0 136.824,-0 136.824,-0 138.514,-0 138.514,-0 140.203,-0 140.203,-0 141.892,-0 141.892,-0 143.581,-0 143.581,-0 145.27,-0 145.27,-0 146.959,-0 146.959,-0 148.649,-0 148.649,-0 150.338,-0 150.338,-0 152.027,-0 152.027,-0 153.716,-0 153.716,-0 155.405,-0 155.405,-0 157.095,-0 157.095,-0 158.784,-0 158.784,-0 160.473,-0 160.473,-0 162.162,-0 162.162,-0 163.851,-0 163.851,-0 165.541,-0 165.541,-0 167.23,-0 167.23,-0 168.919,-0 168.919,-0 170.608,-0 170.608,-0 172.297,-0 172.297,-0 173.986,-0 173.986,-0 175.676,-0 175.676,-0 177.365,-0 177.365,-0 179.054,-0 179.054,-0 180.743,-0 180.743,-0 182.432,-0 182.432,-0 184.122,-0 184.122,-0 185.811,-0 185.811,-0 187.5,-0 187.5,-0 189.189,-0 189.189,-0 190.878,-0 190.878,-0 192.568,-0 192.568,-0 194.257,-0 194.257,-0 195.946,-0 195.946,-0 197.635,-0 197.635,-0 199.324,-0 199.324,-0 201.014,-0 201.014,-0 202.703,-0 202.703,-0 204.392,-0 204.392,-0 206.081,-0 206.081,-0 207.77,-0 207.77,-0 209.459,-0 209.459,-0 211.149,-0 211.149,-0 212.838,-0 212.838,-0 214.527,-0 214.527,-0 216.216,-0 216.216,-0 217.905,-0 217.905,-0 219.595,-0 219.595,-0 221.284,-0 221.284,-0 222.973,-0 222.973,-0 224.662,-0 224.662,-0 226.351,-0 226.351,-0 228.041,-0 228.041,-0 229.73,-0 229.73,-0 231.419,-0 231.419,-0 233.108,-0 233.108,-0 234.797,-0 234.797,-0 236.486,-0 236.486,-0 238.176,-0 238.176,-0 239.865,-0 239.865,-0 241.554,-0 241.554,-0 243.243,-0 243.243,-0 244.932,-0 244.932,-0 246.622,-0 246.622,-100 248.311,-100 248.311,-0 250,-0 250,0\" style=\"fill:none; stroke:currentColor;\"/>\n",
       "</svg>\n",
       "</div>\n",
       "<div style=\"flex=grow:1;\">\n",
       "Regular(148, -74, 74, name='x')<br/>\n",
       "<hr style=\"margin-top:.2em; margin-bottom:.2em;\"/>\n",
       "Double() Σ=106724000.0\n",
       "\n",
       "</div>\n",
       "</div>\n",
       "</html>"
      ],
      "text/plain": [
       "Hist(Regular(148, -74, 74, name='x'), storage=Double()) # Sum: 106724000.0"
      ]
     },
     "execution_count": 56,
     "metadata": {},
     "output_type": "execute_result"
    }
   ],
   "source": [
    "h = Hist(hist.axis.Regular(148, -74.0, 74.0, name=\"x\"))\n",
    "h.fill(inputs_powheg2['weights'])"
   ]
  },
  {
   "cell_type": "code",
   "execution_count": 11,
   "id": "d151e29c-646b-4001-b37f-28e28f98a627",
   "metadata": {},
   "outputs": [],
   "source": [
    "smeft_train = inputs_smeft.sample(frac=0.7, random_state=rando)\n",
    "smeft_test = inputs_smeft.drop(smeft_train.index)"
   ]
  },
  {
   "cell_type": "code",
   "execution_count": 12,
   "id": "ff4ee677-4405-47c4-b55f-39c44b7147cb",
   "metadata": {},
   "outputs": [],
   "source": [
    "powheg_train = inputs_powheg.sample(frac=0.7, random_state=rando)\n",
    "powheg_test = inputs_powheg.drop(powheg_train.index)"
   ]
  },
  {
   "cell_type": "code",
   "execution_count": 13,
   "id": "60e61d16-7935-4509-beeb-e59327dfccf0",
   "metadata": {},
   "outputs": [],
   "source": [
    "truth_smeft = np.ones_like(smeft_train['weights'])\n",
    "truth_powheg = np.zeros_like(powheg_train['weights'])\n",
    "\n",
    "weights_smeft = np.ones_like(smeft_train['weights'])\n",
    "weights_powheg = np.ones_like(powheg_train['weights'])"
   ]
  },
  {
   "cell_type": "code",
   "execution_count": 14,
   "id": "ee0bc080-2fdb-4318-9301-5d4f3355a290",
   "metadata": {},
   "outputs": [],
   "source": [
    "z = np.concatenate([smeft_train, powheg_train], axis=0).astype(np.float32)\n",
    "w = np.concatenate([weights_smeft, weights_powheg], axis=0).astype(np.float32)\n",
    "y = np.concatenate([truth_smeft, truth_powheg], axis=0).astype(np.float32)"
   ]
  },
  {
   "cell_type": "code",
   "execution_count": 18,
   "id": "359a897f-e15e-4bc2-80a0-7ba9ca689513",
   "metadata": {},
   "outputs": [],
   "source": [
    "# t_test = torch.from_numpy(z)"
   ]
  },
  {
   "cell_type": "code",
   "execution_count": 19,
   "id": "420b8254-d5e3-403e-a135-8ad6efd55962",
   "metadata": {},
   "outputs": [],
   "source": [
    "# train_dataloader = DataLoader(t_test, batch_size=128, shuffle=True)"
   ]
  },
  {
   "cell_type": "code",
   "execution_count": 23,
   "id": "d7d4689a-228a-4850-b683-0f24d975bdbb",
   "metadata": {},
   "outputs": [],
   "source": [
    "input_dim = torch.from_numpy(z).shape[1]"
   ]
  },
  {
   "cell_type": "code",
   "execution_count": 4,
   "id": "1c1b1734-4d89-4507-9dde-4ef868e95402",
   "metadata": {},
   "outputs": [],
   "source": [
    "class MyDataset(Dataset):\n",
    "    def __init__(self, data, weights, targets):\n",
    "        self.data = data\n",
    "        self.weights = weights\n",
    "        self.targets = targets\n",
    "\n",
    "    def __len__(self):\n",
    "        return len(self.data)\n",
    "\n",
    "    def __getitem__(self, idx):\n",
    "        sample = self.data[idx]\n",
    "        weights = self.weights[idx]\n",
    "        target = self.targets[idx]\n",
    "        return sample, weights, target"
   ]
  },
  {
   "cell_type": "code",
   "execution_count": 15,
   "id": "00a82d99-ced7-4983-8125-307d79d735d3",
   "metadata": {},
   "outputs": [],
   "source": [
    "train_dataset = MyDataset(torch.from_numpy(z), torch.from_numpy(w), torch.from_numpy(y))"
   ]
  },
  {
   "cell_type": "code",
   "execution_count": 16,
   "id": "216c4290-3766-497d-990d-0a6698da3581",
   "metadata": {},
   "outputs": [],
   "source": [
    "train_dataloader = DataLoader(train_dataset, batch_size=128, shuffle=True)"
   ]
  },
  {
   "cell_type": "code",
   "execution_count": 25,
   "id": "463b5ad8-2ff5-4b1e-8b2f-19e52e7746d8",
   "metadata": {
    "jupyter": {
     "source_hidden": true
    }
   },
   "outputs": [
    {
     "name": "stdout",
     "output_type": "stream",
     "text": [
      "Using cpu device\n",
      "input dims=11\n"
     ]
    }
   ],
   "source": [
    "device = \"cpu\"\n",
    "print(f\"Using {device} device\")\n",
    "print(f\"input dims={input_dim}\")\n",
    "\n",
    "# Define model\n",
    "class NeuralNetwork(nn.Module):\n",
    "    def __init__(self, input_dim):\n",
    "        super().__init__()\n",
    "        self.main_module= nn.Sequential(\n",
    "            nn.Linear(input_dim, 256),\n",
    "            nn.LeakyReLU(),\n",
    "            nn.Linear(256,256),\n",
    "            nn.LeakyReLU(),\n",
    "            nn.Linear(256, 256),\n",
    "            nn.LeakyReLU(),\n",
    "            nn.Linear(256, 1),\n",
    "            nn.Sigmoid()\n",
    "        )\n",
    "    def forward(self, x):\n",
    "        return self.main_module(x)\n",
    "\n",
    "model = NeuralNetwork(input_dim).to(device)\n",
    "# print(model)"
   ]
  },
  {
   "cell_type": "code",
   "execution_count": 26,
   "id": "d0f6e8e3-6f7f-4289-86aa-deda85497594",
   "metadata": {},
   "outputs": [],
   "source": [
    "loss_fn = nn.BCELoss(reduction='mean')"
   ]
  },
  {
   "cell_type": "code",
   "execution_count": 27,
   "id": "dd091f2a-ac8e-43b3-a1be-fd917631518e",
   "metadata": {},
   "outputs": [],
   "source": [
    "optimizer = optim.Adam(model.parameters(), lr=1e-3)"
   ]
  },
  {
   "cell_type": "code",
   "execution_count": 41,
   "id": "2d7548c6-00b9-441d-9c0b-341222facec2",
   "metadata": {},
   "outputs": [],
   "source": [
    "def train(model, dataloader, loss_fn, optimizer, device=\"cpu\"):\n",
    "    size = len(dataloader.dataset)\n",
    "    model.train()\n",
    "    total_loss = 0.0\n",
    "    \n",
    "    for batch_samples, batch_weights, batch_targets in dataloader:\n",
    "        batch_samples, batch_weights, batch_targets = (\n",
    "            batch_samples.to(device),\n",
    "            batch_weights.to(device),\n",
    "            batch_targets.to(device)\n",
    "        )\n",
    "\n",
    "        # Compute prediction error\n",
    "        outputs = model(batch_samples).squeeze(1)\n",
    "        loss = loss_fn(outputs, batch_targets)\n",
    "        final_loss = torch.mean(loss)\n",
    "\n",
    "        optimizer.zero_grad()\n",
    "        final_loss.backward()\n",
    "        optimizer.step()\n",
    "\n",
    "        total_loss += final_loss.item()\n",
    "\n",
    "    avg_loss = total_loss / len(dataloader)\n",
    "    print(f\"Average Training Loss: {avg_loss:.4f}\")\n",
    "\n",
    "        # # Backpropagation\n",
    "        # loss.backward()\n",
    "        # optimizer.step()\n",
    "        # optimizer.zero_grad()\n",
    "\n",
    "        # # if batch % 100 == 0:\n",
    "        # loss, current = loss.item(), (batch + 1) * len(X)\n",
    "        # print(f\"loss: {loss:>7f}  [{current:>5d}/{size:>5d}]\")"
   ]
  },
  {
   "cell_type": "code",
   "execution_count": 42,
   "id": "0f896b2f-edb2-47ff-bbdc-ba81556f887d",
   "metadata": {},
   "outputs": [
    {
     "name": "stdout",
     "output_type": "stream",
     "text": [
      "Epoch 1\n",
      "-------------------------------\n",
      "Average Training Loss: 0.7485\n",
      "Epoch 2\n",
      "-------------------------------\n",
      "Average Training Loss: 0.6933\n",
      "Epoch 3\n",
      "-------------------------------\n",
      "Average Training Loss: 0.6933\n",
      "Epoch 4\n",
      "-------------------------------\n",
      "Average Training Loss: 0.6933\n",
      "Epoch 5\n",
      "-------------------------------\n",
      "Average Training Loss: 0.6932\n",
      "Done!\n"
     ]
    }
   ],
   "source": [
    "epochs = 5\n",
    "for t in range(epochs):\n",
    "    print(f\"Epoch {t+1}\\n-------------------------------\")\n",
    "    train(model, train_dataloader, loss_fn, optimizer)\n",
    "    # test(test_dataloader, model, loss_fn)\n",
    "print(\"Done!\")"
   ]
  },
  {
   "cell_type": "code",
   "execution_count": 30,
   "id": "f0d85d9c-a54d-4a33-a259-7aee62bbeda9",
   "metadata": {},
   "outputs": [],
   "source": [
    "# def test(dataloader, model, loss_fn):\n",
    "#     size = len(dataloader.dataset)\n",
    "#     num_batches = len(dataloader)\n",
    "#     model.eval()\n",
    "#     test_loss, correct = 0, 0\n",
    "#     with torch.no_grad():\n",
    "#         for X, y in dataloader:\n",
    "#             X, y = X.to(device), y.to(device)\n",
    "#             pred = model(X)\n",
    "#             test_loss += loss_fn(pred, y).item()\n",
    "#             correct += (pred.argmax(1) == y).type(torch.float).sum().item()\n",
    "#     test_loss /= num_batches\n",
    "#     correct /= size\n",
    "#     print(f\"Test Error: \\n Accuracy: {(100*correct):>0.1f}%, Avg loss: {test_loss:>8f} \\n\")"
   ]
  },
  {
   "cell_type": "code",
   "execution_count": null,
   "id": "4a46d6c2-521b-4dd7-8514-f3ba836c0c41",
   "metadata": {},
   "outputs": [],
   "source": []
  }
 ],
 "metadata": {
  "kernelspec": {
   "display_name": "torch",
   "language": "python",
   "name": "torch"
  },
  "language_info": {
   "codemirror_mode": {
    "name": "ipython",
    "version": 3
   },
   "file_extension": ".py",
   "mimetype": "text/x-python",
   "name": "python",
   "nbconvert_exporter": "python",
   "pygments_lexer": "ipython3",
   "version": "3.10.15"
  }
 },
 "nbformat": 4,
 "nbformat_minor": 5
}
