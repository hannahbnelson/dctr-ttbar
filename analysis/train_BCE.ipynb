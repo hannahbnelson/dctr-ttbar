{
 "cells": [
  {
   "cell_type": "code",
   "execution_count": 1,
   "id": "4dc36ed4-4445-464b-b96b-a22a9d4e0712",
   "metadata": {},
   "outputs": [
    {
     "name": "stderr",
     "output_type": "stream",
     "text": [
      "2025-03-28 15:13:00.208180: I tensorflow/core/platform/cpu_feature_guard.cc:182] This TensorFlow binary is optimized to use available CPU instructions in performance-critical operations.\n",
      "To enable the following instructions: SSE4.1 SSE4.2 AVX AVX2 FMA, in other operations, rebuild TensorFlow with the appropriate compiler flags.\n"
     ]
    }
   ],
   "source": [
    "import numpy as np\n",
    "import pandas as pd\n",
    "import awkward as ak\n",
    "import tensorflow as tf\n",
    "import matplotlib.pyplot as plt\n",
    "import topcoffea.modules.utils as utils\n",
    "import pickle\n",
    "import gzip\n",
    "import logging\n",
    "import time"
   ]
  },
  {
   "cell_type": "code",
   "execution_count": 2,
   "id": "20704028-2cdc-4bde-8f91-3e2f465f20fa",
   "metadata": {},
   "outputs": [],
   "source": [
    "rando = 1234"
   ]
  },
  {
   "cell_type": "code",
   "execution_count": 3,
   "id": "75310ef9-5da4-4394-b4d9-4edbc14167e4",
   "metadata": {},
   "outputs": [],
   "source": [
    "fSMEFT = \"/afs/crc.nd.edu/user/h/hnelson2/dctr/analysis/dctr_SMEFT.pkl.gz\"\n",
    "fpowheg = \"/afs/crc.nd.edu/user/h/hnelson2/dctr/analysis/dctr_powheg.pkl.gz\" "
   ]
  },
  {
   "cell_type": "code",
   "execution_count": 4,
   "id": "1c05e520-0998-4304-bf3f-a4aa4bc8a156",
   "metadata": {},
   "outputs": [],
   "source": [
    "inputs_smeft= pickle.load(gzip.open(fSMEFT)).get()\n",
    "inputs_powheg = pickle.load(gzip.open(fpowheg)).get()\n",
    "inputs_powheg = inputs_powheg.sample(frac=1, random_state=rando).reset_index(drop=True)"
   ]
  },
  {
   "cell_type": "code",
   "execution_count": 5,
   "id": "343c3af4-a8fb-4f0d-bf28-6b2df7c05a13",
   "metadata": {},
   "outputs": [],
   "source": [
    "smeft_train = inputs_smeft.sample(frac=0.7, random_state=rando)\n",
    "smeft_test = inputs_smeft.drop(smeft_train.index)\n",
    "\n",
    "powheg_train = inputs_powheg.iloc[:1958489].sample(frac=0.7, random_state=rando)\n",
    "powheg_test = inputs_powheg.iloc[:1958489].drop(powheg_train.index)\n",
    "\n",
    "truth_smeft = np.ones_like(smeft_train['weights'])\n",
    "truth_powheg = np.zeros_like(powheg_train['weights'])\n",
    "\n",
    "weights_smeft = smeft_train['weights']\n",
    "weights_powheg = powheg_train['weights']"
   ]
  },
  {
   "cell_type": "code",
   "execution_count": 6,
   "id": "800d4576-f900-4993-aad9-f3c298f3bbf7",
   "metadata": {},
   "outputs": [],
   "source": [
    "z_0 = smeft_train\n",
    "z_1 = powheg_train\n",
    "w_0 = z_0['weights']\n",
    "w_1 = z_1['weights']\n",
    "y_0 = np.ones_like(z_0['weights'])\n",
    "y_1 = np.zeros_like(z_1['weights'])\n",
    "\n",
    "z = np.concatenate([z_0, z_1], axis=0).astype(np.float32)\n",
    "w = np.concatenate([w_0, w_1], axis=0).astype(np.float32)\n",
    "y = np.concatenate([y_0, y_1], axis=0).astype(np.float32)"
   ]
  },
  {
   "cell_type": "code",
   "execution_count": 7,
   "id": "92a2f73d-53cd-4a61-8d7f-2fbbcc7e2646",
   "metadata": {},
   "outputs": [
    {
     "name": "stderr",
     "output_type": "stream",
     "text": [
      "2025-03-28 15:23:11.634683: I tensorflow/core/common_runtime/process_util.cc:146] Creating new thread pool with default inter op setting: 64. Tune using inter_op_parallelism_threads for best performance.\n"
     ]
    }
   ],
   "source": [
    "dataset = tf.data.Dataset.from_tensor_slices((z, y, w)).shuffle(len(z)).batch(128)\n",
    "# normalizer = tf.keras.layers.Normalization(axis=-1)\n",
    "# normalizer.adapt(z)"
   ]
  },
  {
   "cell_type": "code",
   "execution_count": 8,
   "id": "27a31a6f-2f48-4db4-a239-b57b7edffde8",
   "metadata": {},
   "outputs": [],
   "source": [
    "# Define the neural network model\n",
    "def create_model(input_dim):\n",
    "    model = tf.keras.Sequential([\n",
    "        tf.keras.layers.Input(shape=(input_dim,)),\n",
    "        tf.keras.layers.Dense(200, activation='relu'),\n",
    "        tf.keras.layers.Dropout(0.2, seed=rando),\n",
    "        tf.keras.layers.Dense(300, activation='relu'),\n",
    "        tf.keras.layers.Dense(1, activation='sigmoid')\n",
    "    ])\n",
    "    return model"
   ]
  },
  {
   "cell_type": "code",
   "execution_count": 9,
   "id": "2ca993d8-b55e-4d34-9655-86c81999de85",
   "metadata": {},
   "outputs": [],
   "source": [
    "# Define custom loss function\n",
    "def custom_loss(y_true, y_pred, weights):\n",
    "    term_1 = tf.reduce_sum(weights * y_true * -tf.math.log(y_pred + 1e-8))\n",
    "    term_0 = tf.reduce_sum(weights * (1 - y_true) * -tf.math.log(1 - y_pred + 1e-8))\n",
    "    return term_1 + term_0"
   ]
  },
  {
   "cell_type": "code",
   "execution_count": 10,
   "id": "80db7b55-205e-4d3e-b8cc-e47f7be491dc",
   "metadata": {},
   "outputs": [],
   "source": [
    "input_dim = z.shape[1]\n",
    "model = create_model(input_dim)"
   ]
  },
  {
   "cell_type": "code",
   "execution_count": 11,
   "id": "e0b5426b-fc59-460a-8e66-02be587ba386",
   "metadata": {},
   "outputs": [],
   "source": [
    "optimizer = tf.keras.optimizers.Adam(learning_rate=0.001)"
   ]
  },
  {
   "cell_type": "code",
   "execution_count": 15,
   "id": "37f9074d-aa6e-4e50-a75c-8839b4be6660",
   "metadata": {},
   "outputs": [],
   "source": [
    "model.compile(\n",
    "    optimizer,\n",
    "    loss=tf.keras.losses.BinaryCrossentropy(from_logits=False),\n",
    "    metrics=['accuracy']\n",
    ")"
   ]
  },
  {
   "cell_type": "code",
   "execution_count": 16,
   "id": "891c0a68-b917-498d-90e1-f8b82395c48e",
   "metadata": {},
   "outputs": [
    {
     "name": "stdout",
     "output_type": "stream",
     "text": [
      "Epoch 1/10\n",
      "85684/85684 [==============================] - 94s 1ms/step - loss: 0.6380 - accuracy: 0.6428\n",
      "Epoch 2/10\n",
      "85684/85684 [==============================] - 99s 1ms/step - loss: 0.6371 - accuracy: 0.6445\n",
      "Epoch 3/10\n",
      "85684/85684 [==============================] - 105s 1ms/step - loss: 0.6364 - accuracy: 0.6455\n",
      "Epoch 4/10\n",
      "85684/85684 [==============================] - 112s 1ms/step - loss: 0.6360 - accuracy: 0.6462\n",
      "Epoch 5/10\n",
      "85684/85684 [==============================] - 114s 1ms/step - loss: 0.6359 - accuracy: 0.6464\n",
      "Epoch 6/10\n",
      "85684/85684 [==============================] - 100s 1ms/step - loss: 0.6357 - accuracy: 0.6466\n",
      "Epoch 7/10\n",
      "85684/85684 [==============================] - 85s 989us/step - loss: 0.6356 - accuracy: 0.6467\n",
      "Epoch 8/10\n",
      "85684/85684 [==============================] - 86s 1ms/step - loss: 0.6356 - accuracy: 0.6468\n",
      "Epoch 9/10\n",
      "85684/85684 [==============================] - 81s 946us/step - loss: 0.6355 - accuracy: 0.6470\n",
      "Epoch 10/10\n",
      "85684/85684 [==============================] - 78s 916us/step - loss: 0.6355 - accuracy: 0.6468\n"
     ]
    },
    {
     "data": {
      "text/plain": [
       "<keras.callbacks.History at 0x7f655c1b9df0>"
      ]
     },
     "execution_count": 16,
     "metadata": {},
     "output_type": "execute_result"
    }
   ],
   "source": [
    "nepochs = 10\n",
    "model.fit(z, y, epochs=nepochs)"
   ]
  },
  {
   "cell_type": "code",
   "execution_count": 17,
   "id": "40fadc44-36c7-4843-b6da-6395c2998ee7",
   "metadata": {},
   "outputs": [],
   "source": [
    "def compute_r(z):\n",
    "    f_z = model.predict(z)\n",
    "    return f_z / (1 - f_z + 1e-8)"
   ]
  },
  {
   "cell_type": "code",
   "execution_count": 18,
   "id": "689fecb5-229f-42af-9c4c-e9e67bc18d5c",
   "metadata": {},
   "outputs": [
    {
     "name": "stdout",
     "output_type": "stream",
     "text": [
      "42842/42842 [==============================] - 18s 426us/step\n"
     ]
    }
   ],
   "source": [
    "r_z_0 = compute_r(z_0)"
   ]
  },
  {
   "cell_type": "code",
   "execution_count": 19,
   "id": "7b5bde93-e519-4409-a64c-42ee4047210d",
   "metadata": {},
   "outputs": [
    {
     "name": "stdout",
     "output_type": "stream",
     "text": [
      "42842/42842 [==============================] - 18s 409us/step\n"
     ]
    }
   ],
   "source": [
    "r_z_1 = compute_r(z_1)"
   ]
  },
  {
   "cell_type": "code",
   "execution_count": 20,
   "id": "f14aaf2c-58bc-4d2c-ab44-2099459967e3",
   "metadata": {},
   "outputs": [],
   "source": [
    "# Reweighting and closure test\n",
    "weights_0_to_1 = w_0 * r_z_0.flatten()\n",
    "weights_1_to_0 = w_1 / (r_z_1.flatten() + 1e-8)"
   ]
  },
  {
   "cell_type": "code",
   "execution_count": 28,
   "id": "3c9a3219-09e1-4666-9547-24716ef18b8c",
   "metadata": {},
   "outputs": [
    {
     "name": "stderr",
     "output_type": "stream",
     "text": [
      "/tmp/ipykernel_1072042/774406114.py:20: UserWarning: FigureCanvasAgg is non-interactive, and thus cannot be shown\n",
      "  fig.show()\n"
     ]
    },
    {
     "data": {
      "image/png": "[encoded data removed]",
      "text/plain": [
       "<Figure size 640x480 with 1 Axes>"
      ]
     },
     "metadata": {},
     "output_type": "display_data"
    }
   ],
   "source": [
    "# Make histograms\n",
    "bins = np.linspace(0, np.max([z_0.max(), z_1.max()]), 50)\n",
    "fig,ax = plt.subplots()\n",
    "\n",
    "# Original distributions\n",
    "plt.hist(z_0['mtt'], bins=bins, weights=w_0, alpha=0.5, label=\"Original $z_0$ (dσ₀)\", density=True)\n",
    "plt.hist(z_1['mtt'], bins=bins, weights=w_1, alpha=0.5, label=\"Original $z_1$ (dσ₁)\", density=True)\n",
    "\n",
    "# Reweighted distributions\n",
    "# plt.hist(z_0['mtt'], bins=bins, weights=weights_0_to_1, histtype='step', lw=2, label=\"Reweighted $z_0 \\\\to dσ₁$\", density=True)\n",
    "# plt.hist(z_1['mtt'], bins=bins, weights=weights_1_to_0, histtype='step', lw=2, label=\"Reweighted $z_1 \\\\to dσ₀$\", density=True)\n",
    "\n",
    "# Plot settings\n",
    "ax.set_xlim([0,2000])\n",
    "plt.xlabel(\"z\")\n",
    "plt.ylabel(\"Density\")\n",
    "plt.legend()\n",
    "plt.title(\"Closure Test: Reweighting Distributions\")\n",
    "plt.grid()\n",
    "fig.show()\n",
    "# fig.savefig(\"dnn_output.png\")"
   ]
  },
  {
   "cell_type": "code",
   "execution_count": null,
   "id": "072a4cab-ca73-452e-ad49-48ca8889b76a",
   "metadata": {},
   "outputs": [],
   "source": []
  }
 ],
 "metadata": {
  "kernelspec": {
   "display_name": "dctr-coffea",
   "language": "python",
   "name": "dctr-coffea"
  },
  "language_info": {
   "codemirror_mode": {
    "name": "ipython",
    "version": 3
   },
   "file_extension": ".py",
   "mimetype": "text/x-python",
   "name": "python",
   "nbconvert_exporter": "python",
   "pygments_lexer": "ipython3",
   "version": "3.9.15"
  }
 },
 "nbformat": 4,
 "nbformat_minor": 5
}
